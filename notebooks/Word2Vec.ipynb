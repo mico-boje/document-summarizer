{
 "cells": [
  {
   "cell_type": "code",
   "execution_count": 1,
   "metadata": {},
   "outputs": [],
   "source": [
    "import gensim.downloader as api\n",
    "import gensim\n",
    "from gensim.models import Phrases\n",
    "from gensim.models import KeyedVectors, Word2Vec\n",
    "import numpy as np\n",
    "import nltk\n",
    "from nltk.corpus import stopwords\n",
    "import string\n",
    "from sklearn.metrics.pairwise import cosine_similarity\n",
    "import networkx as nx\n",
    "import ast\n",
    "import json"
   ]
  },
  {
   "cell_type": "code",
   "execution_count": 2,
   "metadata": {},
   "outputs": [],
   "source": [
    "filename = r'/home/miboj/NLP/document-summarizer/data/processed/articles.json'\n",
    "file = open(filename, encoding='ascii', errors='ignore')\n",
    "text = file.read()\n",
    "file.close()\n",
    "\n",
    "d = ast.literal_eval(text)"
   ]
  },
  {
   "cell_type": "code",
   "execution_count": null,
   "metadata": {},
   "outputs": [],
   "source": []
  },
  {
   "cell_type": "code",
   "execution_count": 3,
   "metadata": {},
   "outputs": [],
   "source": [
    "with open(filename) as json_file:\n",
    "    data = json.load(json_file)\n",
    "\n",
    "filename = r'/home/miboj/NLP/document-summarizer/data/raw/articles.json'\n",
    "file = open(filename, encoding='ascii', errors='ignore')\n",
    "text = file.read()\n",
    "file.close()\n",
    "\n",
    "json_content = ast.literal_eval(text)\n",
    "samples = json_content[0:10]"
   ]
  },
  {
   "cell_type": "code",
   "execution_count": 4,
   "metadata": {},
   "outputs": [
    {
     "name": "stdout",
     "output_type": "stream",
     "text": [
      "{'content': ['The Japan Air Self-Defense Force (JASDF) has inducted its first Kawasaki RC-2 ELINT platform (left) into service at Iruma AB in western Tokyo. The type will replace the older NAMC YS-11EB (right) in the role. ', 'pic.twitter.com/0cdb213Phq', ' MELBOURNE, Australia  The Japan Air Self-Defense Force has inducted the first of a new intelligence-gathering aircraft into service, following a two-year flight test program.', ' The JASDF announced the induction of the RC-2 electronic intelligence, or elint, gathering aircraft at a ceremony held at Iruma Air Base in the western suburbs of the Japanese capital Tokyo on Oct. 1. ', \" The RC-2 is based on Kawasaki Heavy Industries' C-2 airlifter and has been heavily modified with multiple aircraft fairings that contain antennas for detecting, receiving and classifying electronic emissions. The aircraft made its maiden flight in early 2018, though the variant had been in development since at least 2015.\", ' Since that time, it underwent a series of flight tests conducted by the JASDF Air Development and Test Wing at Iruma, where the forces elint squadron is based. ', ' The RC-2 will replace the four NAMC YS-11EBs currently serving with the squadron, although its unknown if the new platform will replace the YS-11EBs on a one-for-one basis. The Defense Ministrys ', 'latest budget request', ', released on the same day of the RC-2s induction, seeks $67.2 million to acquire more of the specialized elint systems by purchasing an unspecified number of RC-2s.', ' Japan is also seeking to recapitalize its standoff jamming capability. The latest budget request sought $144.9 million to develop a new standoff jammer aircraft, with the accompanying graphic released by the ministry suggesting that it will also be based on the C-2. ', ' This aircraft will likely replace the two YS-11EAs and possibly the sole Kawasaki EC-1 in service with the JASDFs Electronic Warfare Squadron, which is also based at Iruma. ', 'Sign up for the C4ISRNET newsletter about future battlefield technologies.', 'For more newsletters click here', 'Sign up for the C4ISRNET newsletter about future battlefield technologies.', 'By giving us your email, you are opting in to the C4ISRNET Daily Brief.', ' The EC-1 is based on the older Kawasaki C-1 that Japan is slowly replacing with the C-2. The latest budget request is seeking $487.5 million to acquire two more of the airlifters in the coming fiscal year. ', ' Japan has acquired the C-2 at a relatively slow rate, with seven aircraft funded for fiscal 2014 through fiscal 2018. Fiscal 2019 received no funding for the effort.', ' In recent years, the country has also flirted with the idea of buying Lockheed Martin C-130J Super Hercules airlifters from the United States as a cheaper option.', ' The U.S. ally is also seeking a further $47.4 million to develop a new elint collection system that will eventually go on a new platform to replace the four Lockheed EP-3C Orion aircraft currently operated by the Japan Maritime Self-Defense Force.']}\n"
     ]
    }
   ],
   "source": [
    "print(samples[1])"
   ]
  },
  {
   "cell_type": "code",
   "execution_count": 5,
   "metadata": {},
   "outputs": [],
   "source": [
    "tokens_list = []\n",
    "for i in d:\n",
    "    for sen in i['content']:\n",
    "        tokens_list.append(sen)"
   ]
  },
  {
   "cell_type": "code",
   "execution_count": 6,
   "metadata": {},
   "outputs": [
    {
     "name": "stdout",
     "output_type": "stream",
     "text": [
      "--- 32.34333944320679 seconds ---\n"
     ]
    }
   ],
   "source": [
    "import time\n",
    "start_time = time.time()\n",
    "sentences = []\n",
    "word_count = 0\n",
    "stpwrds = stopwords.words('english') + list(string.punctuation) + ['—', '“', '”', \"'\", \"’\"]\n",
    "for e, i in enumerate(tokens_list):\n",
    "    words = []\n",
    "    a = nltk.word_tokenize(i)\n",
    "    for word in a:\n",
    "        if word not in stpwrds:\n",
    "            words.append(word)\n",
    "            word_count += 1\n",
    "    sentences.append(words)\n",
    "print(\"--- %s seconds ---\" % (time.time() - start_time))"
   ]
  },
  {
   "cell_type": "code",
   "execution_count": 7,
   "metadata": {},
   "outputs": [
    {
     "name": "stdout",
     "output_type": "stream",
     "text": [
      "111137\n",
      "1782730\n"
     ]
    }
   ],
   "source": [
    "print(len(sentences))\n",
    "print(word_count)"
   ]
  },
  {
   "cell_type": "code",
   "execution_count": 8,
   "metadata": {},
   "outputs": [],
   "source": [
    "\"\"\"\n",
    "sg - Training algorithm: 1 for skip-gram, 0 for CBOW\n",
    "hs - If 1, hierarchical softmax will be used for model training. If 0, and negative is non-zero, negative sampling will be used.\n",
    "\"\"\"\n",
    "model = Word2Vec(sentences, size=100, window=5, workers=12, sg=1, hs=1, compute_loss=True)"
   ]
  },
  {
   "cell_type": "code",
   "execution_count": 9,
   "metadata": {},
   "outputs": [
    {
     "name": "stderr",
     "output_type": "stream",
     "text": [
      "<ipython-input-9-ddf5759f98d5>:1: DeprecationWarning: Call to deprecated `most_similar` (Method will be removed in 4.0.0, use self.wv.most_similar() instead).\n",
      "  model.most_similar('weapon')\n"
     ]
    },
    {
     "data": {
      "text/plain": [
       "[('weapons', 0.7701378464698792),\n",
       " ('ground-to-ground', 0.7409212589263916),\n",
       " ('man-portable', 0.7301902770996094),\n",
       " ('Phalanx', 0.7298985123634338),\n",
       " ('anti-torpedo', 0.7249369621276855),\n",
       " ('day/night', 0.7246792316436768),\n",
       " ('close-in', 0.7213224172592163),\n",
       " ('designators', 0.7162144184112549),\n",
       " ('canister', 0.7033758163452148),\n",
       " ('shorter-range', 0.7002357244491577)]"
      ]
     },
     "execution_count": 9,
     "metadata": {},
     "output_type": "execute_result"
    }
   ],
   "source": [
    "model.most_similar('weapon')"
   ]
  },
  {
   "cell_type": "code",
   "execution_count": 10,
   "metadata": {},
   "outputs": [],
   "source": [
    "model = model.wv"
   ]
  },
  {
   "cell_type": "code",
   "execution_count": 11,
   "metadata": {},
   "outputs": [],
   "source": [
    "import re\n",
    "def remove_empty_string(input_string):\n",
    "    for e, i in enumerate(input_string):\n",
    "        try:\n",
    "            if i[-1] == ' ' and input_string[e+1][-1] == ' ':\n",
    "                input_string[e] = i.rstrip()\n",
    "        except IndexError:\n",
    "            print('Out of index')\n",
    "    joined_string = ''.join(input_string)\n",
    "    for e, i in enumerate(joined_string):\n",
    "        if i == ' ' and joined_string[e+1] == ' ':\n",
    "            del i\n",
    "    sentences = nltk.sent_tokenize(joined_string)\n",
    "    return sentences\n"
   ]
  },
  {
   "cell_type": "code",
   "execution_count": 12,
   "metadata": {},
   "outputs": [],
   "source": [
    "raw_string = [\" ROME — Defying reports that their planned partnership is \", \"doomed to fail\", \", France’s Naval Group and \", \"Italy’s Fincantieri\", \" have announced a joint venture to build and export naval vessels. \", \" The two \", \"state-controlled shipyards\", \" said they were forming a 50-50 joint venture after months of talks to integrate their activities. The move comes as Europe’s fractured shipbuilding industry faces stiffer global competition. \", \" The firms said in a statement that the deal would allow them to “jointly prepare winning offers for binational programs and export market,” as well as create joint supply chains, research and testing. \", \" Naval Group and Fincantieri first announced talks on cooperation last year after the latter negotiated a controlling share in French shipyard STX. But the deal was reportedly losing momentum due to resistance from French industry and a political row between France and Italy over migrants. \", \" The new deal falls short of the 10 percent share swap predicted by French Economy and Finance Minister Bruno Le Maire earlier this year, and far short of the total integration envisaged by Fincantieri CEO Giuseppe Bono. \", \" The statement called the joint venture the “first steps” toward the creation of an alliance that would create “a more efficient and competitive European shipbuilding industry.”\", \" Naval Group CEO Hervé Guillou, speaking at the Euronaval trade expo in Paris on Oct. 24, said the alliance is based on “two countries sharing a veritable naval ambition.”\", \" The joint venture is necessary because the “context of the global market has changed drastically,” he added, specifically mentioning new market entrants Russia, China, Singapore, Ukraine, India and Turkey.\", \"Sign up for the Early Bird Brief, the defense industry's most comprehensive news and information, straight to your inbox.\", \"By giving us your email, you are opting in to the Early Bird Brief.\", \" When asked about an initial product to be tackled under the alliance, Guillou acknowledged: “The answer is simple: there is nothing yet.”\", \" However, the firms said they are working toward a deal to build four logistics support ships for the French Navy, which will be based on an Italian design. \", \"Competition flares up for the follow-on portion of a deal previously won by the French shipbuilder.\", \" The firms also plan to jointly bid next year on work for midlife upgrades for Horizon frigates, which were built by France and Italy and are in service with both navies. The work would include providing a common combat management system. \", \" The statement was cautious about future acceleration toward integration. “A Government-to-Government Agreement would be needed to ensure the protection of sovereign assets, a fluid collaboration between the French and Italian teams and encourage further coherence of the National assistance programs, which provide a framework and support export sales,” the statement said.\", \" But the firms were optimistic the deal would be “a great opportunity for both groups and their eco-systems, by enhancing their ability to better serve the Italian and French navies, to capture new export contracts, to increase research funding and, ultimately, improve the competitiveness of both French and Italian naval sectors.”\", \" \", \"Sebastian Sprenger\", \" in Paris contributed to this report.\"]\n",
    "sentences = remove_empty_string(raw_string)"
   ]
  },
  {
   "cell_type": "code",
   "execution_count": 13,
   "metadata": {},
   "outputs": [
    {
     "data": {
      "text/plain": [
       "(100,)"
      ]
     },
     "execution_count": 13,
     "metadata": {},
     "output_type": "execute_result"
    }
   ],
   "source": [
    "# The 'skipthoughts' module can be found at the root of the GitHub  repository linked above\n",
    "#import skipthoughts\n",
    "\n",
    "# You would need to download pre-trained models first\n",
    "#model = skipthoughts.load_model()\n",
    "\n",
    "#encoder = skipthoughts.Encoder(model)\n",
    "#encoded =  encoder.encode(sentences)\n",
    "a = model['ROME']\n",
    "a.shape"
   ]
  },
  {
   "cell_type": "code",
   "execution_count": 14,
   "metadata": {},
   "outputs": [],
   "source": [
    "def get_embedding(sentences):\n",
    "    embeddings = []\n",
    "    stpwrds = stopwords.words('english') + list(string.punctuation) + ['—', '“', '”', \"'\", \"’\"]\n",
    "\n",
    "    for i in sentences:\n",
    "        temp = []\n",
    "        words = nltk.word_tokenize(i)\n",
    "        for word in words:\n",
    "            true_len = len(words) - len([w for w in stpwrds if w in words])\n",
    "            #if word not in stpwrds:\n",
    "            if word in model.vocab:\n",
    "                v = model[word]\n",
    "            #else:\n",
    "            #    v = np.zeros(300,)\n",
    "            temp.append(v)\n",
    "            a = sum(temp)/true_len\n",
    "            np_temp = np.array(a)\n",
    "        #embeddings.append(temp)\n",
    "        embeddings.append(np_temp)\n",
    "\n",
    "    sentence_vectors = np.array(embeddings)\n",
    "    return sentence_vectors"
   ]
  },
  {
   "cell_type": "code",
   "execution_count": 15,
   "metadata": {},
   "outputs": [],
   "source": [
    "def get_sim_matrix(sentences, sentence_vectors):\n",
    "    sim_mat = np.zeros([len(sentences), len(sentences)])\n",
    "    sim_mat.shape  \n",
    "    for i in range(len(sentences)):\n",
    "      for j in range(len(sentences)):\n",
    "        if i != j:\n",
    "          sim_mat[i][j] = cosine_similarity(sentence_vectors[i].reshape(1,100), sentence_vectors[j].reshape(1,100))[0,0]\n",
    "    return sim_mat"
   ]
  },
  {
   "cell_type": "code",
   "execution_count": 16,
   "metadata": {},
   "outputs": [],
   "source": [
    "def get_pagerank(sim_mat):\n",
    "    nx_graph = nx.from_numpy_array(sim_mat)\n",
    "    scores = nx.pagerank(nx_graph)\n",
    "    return scores"
   ]
  },
  {
   "cell_type": "code",
   "execution_count": 17,
   "metadata": {},
   "outputs": [],
   "source": [
    "def get_summary(num_sentences, scores, sentences):\n",
    "    ranked_sentences = sorted(((scores[i],s) for i,s in enumerate(sentences)), reverse=True)\n",
    "    #num_of_sentences = 4\n",
    "    summary = ''\n",
    "    for i in range(num_sentences):\n",
    "        summary += ranked_sentences[i][1]\n",
    "        summary += \" \"\n",
    "    return summary"
   ]
  },
  {
   "cell_type": "code",
   "execution_count": 18,
   "metadata": {},
   "outputs": [],
   "source": [
    "a = \"\"\"The statement called the joint venture the “first steps” toward the creation of an alliance that would create “a more efficient and competitive European shipbuilding industry.” Naval Group CEO Hervé Guillou, speaking at the Euronaval trade expo in Paris on Oct. 24, said the alliance is based on “two countries sharing a veritable naval ambition.” The joint venture is necessary because the “context of the global market has changed drastically,” he added, specifically mentioning new market entrants Russia, China, Singapore, Ukraine, India and Turkey.Sign up for the Early Bird Brief, the defense industry's most comprehensive news and information, straight to your inbox.By giving us your email, you are opting in to the Early Bird Brief.\n",
    "But the firms were optimistic the deal would be “a great opportunity for both groups and their eco-systems, by enhancing their ability to better serve the Italian and French navies, to capture new export contracts, to increase research funding and, ultimately, improve the competitiveness of both French and Italian naval sectors.” Sebastian Sprenger in Paris contributed to this report.\n",
    "When asked about an initial product to be tackled under the alliance, Guillou acknowledged: “The answer is simple: there is nothing yet.” However, the firms said they are working toward a deal to build four logistics support ships for the French Navy, which will be based on an Italian design.\n",
    "The firms also plan to jointly bid next year on work for midlife upgrades for Horizon frigates, which were built by France and Italy and are in service with both navies.\"\"\""
   ]
  },
  {
   "cell_type": "code",
   "execution_count": 19,
   "metadata": {},
   "outputs": [],
   "source": [
    "summary_samples = []\n",
    "summary_len = []\n",
    "for i in samples:\n",
    "    i = remove_empty_string(i['content'])\n",
    "    embeddings = get_embedding(i)\n",
    "    sim_mat = get_sim_matrix(i, embeddings)\n",
    "    scores = get_pagerank(sim_mat)\n",
    "    sentence_length = len(i)\n",
    "    summary = get_summary(int(sentence_length*0.3), scores, i)\n",
    "    summary_samples.append(summary)\n",
    "    summary_len.append(int(sentence_length*0.3))"
   ]
  },
  {
   "cell_type": "code",
   "execution_count": 20,
   "metadata": {},
   "outputs": [
    {
     "name": "stdout",
     "output_type": "stream",
     "text": [
      "Out of index\n"
     ]
    }
   ],
   "source": [
    "sorted_summaries = []\n",
    "for e, i in enumerate(summary_samples):\n",
    "    a = nltk.sent_tokenize(i)\n",
    "    o = samples[e]['content']\n",
    "    b = remove_empty_string(o)\n",
    "    #print(a)\n",
    "    #print(b)\n",
    "    res = [sort for x in b for sort in a if sort == x]\n",
    "    sorted_summaries.append(res)"
   ]
  },
  {
   "cell_type": "code",
   "execution_count": 21,
   "metadata": {},
   "outputs": [
    {
     "name": "stdout",
     "output_type": "stream",
     "text": [
      "0 : \n",
      "len original:  17\n",
      "Summary len:  5\n",
      "Allvin will succeed the current vice chief, Gen. Seve Wilson, who is expected to retire after 39 years in uniform. Wilson has served in his role since July 2016 and is the longest-serving vice chief in Air Force history. Gen. David Allvin is an experienced pilot who has commanded a n umber of wings, including the 438th Air Expeditionary Wing in Afghanistan. Allvin also commanded the 438th Air Expeditionary Wing in Kabul, Afghanistan, in 2010 and 2011, during which time he also served as the commanding general of NATO Air Training Command. Allvin also commanded the 618th Air and Space Operations Center at Scott Air Force Base, Illinois, and served as director of strategy, plans and policy at U.S. European Commands headquarters at Stuttgart-Vaihingen, Germany. \n",
      "1 : \n",
      "len original:  19\n",
      "Summary len:  5\n",
      "The Japan Air Self-Defense Force (JASDF) has inducted its first Kawasaki RC-2 ELINT platform (left) into service at Iruma AB in western Tokyo. pic.twitter.com/0cdb213Phq MELBOURNE, Australia  The Japan Air Self-Defense Force has inducted the first of a new intelligence-gathering aircraft into service, following a two-year flight test program. The latest budget request sought $144.9 million to develop a new standoff jammer aircraft, with the accompanying graphic released by the ministry suggesting that it will also be based on the C-2. This aircraft will likely replace the two YS-11EAs and possibly the sole Kawasaki EC-1 in service with the JASDFs Electronic Warfare Squadron, which is also based at Iruma. The U.S. ally is also seeking a further $47.4 million to develop a new elint collection system that will eventually go on a new platform to replace the four Lockheed EP-3C Orion aircraft currently operated by the Japan Maritime Self-Defense Force. \n",
      "2 : \n",
      "len original:  14\n",
      "Summary len:  4\n",
      "We are helping the Air Force optimize the value of our 5G and other networking capabilities at these 3 bases and stand ready to work with them to extend these services across the entirety of the Air Force if they so choose. The Air Force made the award using so-called Other Transaction Agreements under its Enterprise IT as a Service (EITaaS) program, which aims to increase network speeds and modernize IT infrastructure at the services bases to support multi-domain operations. We think it is vital to test commercially provided services like 5G and software-based networking-as-a-service capabilities as we explore ways to help us innovate and improve our global air, space and cyber readiness, said Col. Justin K. Collins, deputy of the Air Forces enterprise IT & cyber infrastructure division. \n",
      "3 : \n",
      "len original:  10\n",
      "Summary len:  3\n",
      " WASHINGTON  The U.S. Air Force has awarded a nearly $40 million contract toParsons to produce ground vehicles that can clear mines or unexploded ordnance from airfields  using a laser. The idea behind the RADBO is to allow airmen to clear threats from current or future airfields  hardly the laser warfare capability sought by Pentagon planners for decades, but still a potentially important step, as it represents the first DoD ground-based laser system to be ordered into full production. According to a 2018 video from the Air Forces Installation and Mission Support Center, the majority of development work on the RADBO design was done at the Armys Redstone Arsenal near Huntsville. \n",
      "4 : \n",
      "len original:  15\n",
      "Summary len:  4\n",
      "In order to turn a manned aircraft into an unmanned one, AFRL simply replaces the human pilot with a robot who interacts with the aircraft controls the same way a human would: it can pull the yoke, press pedals to control rudders and brakes, adjust the throttle and flip switches. And if users determine that they want to return the aircraft to a manned mission, ROBOpilot is simply removed and the pilots' seats are reinstalled. Since then, ROBOpilot has been cleared to fly again and installed in a new Cessna 206. \n",
      "5 : \n",
      "Out of index\n",
      "len original:  39\n",
      "Summary len:  11\n",
      "WASHINGTON  Building on its Switchblade 300 loitering missile legacy with the U.S. Army, AeroVironment is releasing a family of capabilities to include its new Switchblade 600, a larger version suited to go up against armored targets at greater ranges in denied and degraded environments. AeroVironment has provided the tube-launched, rucksack-portable Switchblade to the Army for roughly a decade, delivering thousands of them into theater, but the company sealed the largest loitering munitions deal to date with the service in May  a $146 million contract, funded at $76 million for the first year, to supply the 300 version of the system for the Lethal Miniature Aerial Missile Systems program. The ability to identify a threat on the battlefield, assess it, neutralize the threat with an extremely high degree of precision, with low to no collateral damage, while always having the option of waving off the mission and reengaging the same or different target, is at the core of our solution sets and capabilities, Nawabi said, and were going beyond that. Department of Defense customers wanted the same features of the 300, but with greater effects, Todd Hanning, AeroVironments product line manager for tactical missile systems, said during the same event. The 50-pound system can be set up and operational in less than 10 minutes and is designed to be capable of launching from ground, air or mobile platforms, providing superior force overmatch while minimizing exposure to enemy direct and indirect fires, Hanning said. The new system comes with a touchscreen tablet-based fire control system with an option to pilot the vehicle manually or autonomously. We believe itll be the smartest loitering missile in the market.Battlefield payload delivery, including for lifesaving medical supply, is likely going to be an option commanders regularly seek from drones. AeroVironment began developing the 600 as a new class of loitering missiles to meet a set of requirements in an Army development program called Single Multi-Mission Attack Missile. AeroVironment is also continuing to find ways to integrate Switchblade into air and ground platforms. AeroVironment is also teaming with Kratos Defense and Security Systems to demonstrate a high-speed, long-range unmanned combat air vehicle that serves as a mothership to deliver large quantities of Switchblade 300s that can provide a mesh network of information back to a ground control station to tactically execute multiple attack scenarios cooperatively and to overwhelm and disable enemy systems, Hanning said. While AeroVironment is not one of the initial companies developing capabilities within the Armys Future Vertical Lift Air-Launched Effects, or FVL ALE, portfolio, we definitely see a way for AeroVironment to participate in that and really be a player in that market knowing that Switchblade 600 is definitely designed for air-launched effects, air-launched capability, Hush said, and thats something that well continue to work on and look at the opportunity to be a part of that effort. \n",
      "6 : \n",
      "len original:  29\n",
      "Summary len:  8\n",
      "They just learned that that delivery was canceled due to electrical problems with the aircraft, she said to Ellen Lord, the Pentagons top acquisition official. In a statement, Boeing said a minor electrical issue on a single KC-46 was found by the company during acceptance tests. Boeing expects to conclude this activity within the next several days and is working with the Air Force on a new delivery schedule. But Shaheen, speaking at the hearing, expressed frustration with Boeing over its repeated difficulties designing and building the new tankers, with challenges over the life span of the program that have included wiring issues and problems with the vision system that allows boom operators to safely refuel other planes. Because it is an ongoing challenge thats affecting our ability to our national security, long term if we dont get these refueling tankers up and running. Lord responded that KC-46 problems have included design and engineering flaws as well as issues occurring during the manufacturing of the jet. However, she said the root cause of the problems is the fixed-price firm contract used for the KC-46 program, which makes Boeing financially responsible for any costs beyond the $4.9 billion ceiling. \n",
      "7 : \n",
      "len original:  17\n",
      "Summary len:  5\n",
      " LONDON  British efforts to introduce a new family of long-endurance, medium-altitude drones has moved a step closer with an announcement by the Ministry of Defence Sept. 28 that the first General Atomics Protector RG Mk1 off the production had made its maiden flight. The flight comes just over two months after the British announced they had inked a 65 million (U.S. $83 million) deal with General Atomics Aeronautical Systems to supply the first three of an expected fleet of at least 16 drones. A commitment for the additional drones could come in April next year. Crucially, the machine is also in line to be approved to fly in non-segregated airspace in places like the U.K. British Defence Minister Jeremy Quin said the inaugural flight of the production drone was a welcome step in development. For the moment the first Protector will stay in the United States to support systems testing as part of an MoD, U.S. Air Force and General Atomics team. \n",
      "8 : \n",
      "len original:  16\n",
      "Summary len:  4\n",
      " WASHINGTON  The U.S. State Department has preemptively cleared Switzerland to purchase the F-35A joint strike fighter and F/A-18E/F Super Hornet, just days after a public vote narrowly okd the Swiss government to move forward with a planned procurement of new fighter aircraft. Rather, the announcement is a bureaucratic move by State and DSCA to make sure that, should the jets be selected, there will not be delays in getting the stealth fighter cleared. A national referendum on Sept. 27 approved the plan to go ahead with the procurement, along with $2 billion for a complementary ground-based air defense system, was narrowly approved by 50.1 percent of voters, a margin of just 8,670 votes. Switzerlands Air 2030 program, which includes an estimated $6.5 billion to buy 30-40 new aircraft for policing the countrys airspace, has the F-35A and Super Hornet facing off against the Eurofighter Typhoon, the Dassault Rafale. \n",
      "9 : \n",
      "len original:  17\n",
      "Summary len:  5\n",
      " COLOGNE, Germany  Swiss voters have approved a government plan to spend $6.5 billion on new fighter aircraft by a margin of 8,670 votes, with the two U.S. vendors in the race feeling the backlash of anti-Trump sentiments. The Swiss legislature last week approved the budget for the Air 2030 modernization program, which includes $6.5 billion for 30-40 new aircraft and $2 billion for a complementary ground-based, air defense system.The Swiss have kicked off flying season for the five types of combat aircraft under consideration to replace the country's aging fleet, with several demonstrations scheduled between now and early July. Amherd stressed that the aircraft budget is to be seen as a ceiling. The government will then evaluate the bids throughout the first half of 2021 and make a decision on the aircraft type and missile defense hardware by June. During the pre-referendum campaign, the two U.S. vendors in the running, Boeing and Lockheed Martin, saw themselves lumped in with his foreign policy approach, considered reckless by many in the wealthy European countries such as Switzerland.Sebastian Sprenger is associate editor for Europe at Defense News, reporting on the state of the defense market in the region, and on U.S.-Europe cooperation and multi-national investments in defense and global security. \n"
     ]
    }
   ],
   "source": [
    "for e, i in enumerate(sorted_summaries):\n",
    "    print(e, \": \")\n",
    "    print(\"len original: \", len(remove_empty_string(samples[e]['content'])))\n",
    "    print(\"Summary len: \", summary_len[e])\n",
    "    summary = \"\"\n",
    "    for sen in i:\n",
    "        summary += sen\n",
    "        summary += \" \"\n",
    "    print(summary)"
   ]
  },
  {
   "cell_type": "code",
   "execution_count": 27,
   "metadata": {},
   "outputs": [
    {
     "name": "stdout",
     "output_type": "stream",
     "text": [
      "0\n",
      " Lt. Gen. David Allvin was confirmed by the Senate to be the Air Forces next vice chief of staff in a late-night vote Wednesday. Allvins nomination to become vice chief and receive his fourth star was approved unanimously. In a Thursday release, Chief of Staff Gen. Charles CQ Brown applauded Allvins confirmation. I could not be more pleased with the confirmation of Gen. Allvin as the new vice chief of staff, Brown said. When it comes to leading at the highest levels of joint strategy and policy, and as someone who sets the standard for critical collaboration with our allies and partners, there is no one more qualified for the role of vice chief. Allvin will succeed the current vice chief, Gen. Seve Wilson, who is expected to retire after 39 years in uniform. Wilson has served in his role since July 2016 and is the longest-serving vice chief in Air Force history. Allvin now serves director of strategy, plans and policy for the Joint Staff at the Pentagon, and is a senior member of the United States delegation to the United Nations Military Staff Committee.Lt. Gen. David Allvin is an experienced pilot who has commanded a n umber of wings, including the 438th Air Expeditionary Wing in Afghanistan. He is a command pilot with more than 4,600 flight hours in more than 30 aircraft, including the F-15, F-16, KC-135, C-17 and C-130. He has 800 flight hours as a test pilot.Don't miss the top Air Force stories, delivered each afternoonFor more newsletters click hereSign up for the Air Force Times Daily News Roundup to receive the top Air Force stories every afternoon.By giving us your email, you are opting in to the Air Force Times Daily News Roundup. His past commands include the 97th Air Mobility Wing at Altus Air Force Base in Oklahoma from 2007 to 2009. Allvin also commanded the 438th Air Expeditionary Wing in Kabul, Afghanistan, in 2010 and 2011, during which time he also served as the commanding general of NATO Air Training Command. Allvin also commanded the 618th Air and Space Operations Center at Scott Air Force Base, Illinois, and served as director of strategy, plans and policy at U.S. European Commands headquarters at Stuttgart-Vaihingen, Germany. He graduated from the Air Force Academy in 1986.Stephen Losey covers leadership and personnel issues as the senior reporter for Air Force Times. He comes from an Air Force family, and his investigative reports have won awards from the Society of Professional Journalists. He has traveled to the Middle East to cover Air Force operations against the Islamic State. \n",
      "1\n",
      "The Japan Air Self-Defense Force (JASDF) has inducted its first Kawasaki RC-2 ELINT platform (left) into service at Iruma AB in western Tokyo. The type will replace the older NAMC YS-11EB (right) in the role. pic.twitter.com/0cdb213Phq MELBOURNE, Australia  The Japan Air Self-Defense Force has inducted the first of a new intelligence-gathering aircraft into service, following a two-year flight test program. The JASDF announced the induction of the RC-2 electronic intelligence, or elint, gathering aircraft at a ceremony held at Iruma Air Base in the western suburbs of the Japanese capital Tokyo on Oct. 1. The RC-2 is based on Kawasaki Heavy Industries' C-2 airlifter and has been heavily modified with multiple aircraft fairings that contain antennas for detecting, receiving and classifying electronic emissions. The aircraft made its maiden flight in early 2018, though the variant had been in development since at least 2015. Since that time, it underwent a series of flight tests conducted by the JASDF Air Development and Test Wing at Iruma, where the forces elint squadron is based. The RC-2 will replace the four NAMC YS-11EBs currently serving with the squadron, although its unknown if the new platform will replace the YS-11EBs on a one-for-one basis. The Defense Ministrys latest budget request, released on the same day of the RC-2s induction, seeks $67.2 million to acquire more of the specialized elint systems by purchasing an unspecified number of RC-2s. Japan is also seeking to recapitalize its standoff jamming capability. The latest budget request sought $144.9 million to develop a new standoff jammer aircraft, with the accompanying graphic released by the ministry suggesting that it will also be based on the C-2. This aircraft will likely replace the two YS-11EAs and possibly the sole Kawasaki EC-1 in service with the JASDFs Electronic Warfare Squadron, which is also based at Iruma. Sign up for the C4ISRNET newsletter about future battlefield technologies.For more newsletters click hereSign up for the C4ISRNET newsletter about future battlefield technologies.By giving us your email, you are opting in to the C4ISRNET Daily Brief. The EC-1 is based on the older Kawasaki C-1 that Japan is slowly replacing with the C-2. The latest budget request is seeking $487.5 million to acquire two more of the airlifters in the coming fiscal year. Japan has acquired the C-2 at a relatively slow rate, with seven aircraft funded for fiscal 2014 through fiscal 2018. Fiscal 2019 received no funding for the effort. In recent years, the country has also flirted with the idea of buying Lockheed Martin C-130J Super Hercules airlifters from the United States as a cheaper option. The U.S. ally is also seeking a further $47.4 million to develop a new elint collection system that will eventually go on a new platform to replace the four Lockheed EP-3C Orion aircraft currently operated by the Japan Maritime Self-Defense Force. \n",
      "2\n",
      " WASHINGTON  AT&T will deliver network tools and 5G to three U.S. Air Force bases, the telecommunications giant announced Wednesday. The company will provide the bases with its networking-as-a-service capabilities to 24,000 personnel across Buckley Air Force Base, Colo., Joint Base Elmendorf-Richardson, Alaska, and Offutt Air Force Base, Neb. The company has completed 5G system design across the installations and expects to complete delivery of the services by the end of 2021. Were proud and honored to bring AT&T 5G and other highly innovative commercial networking-as-a-service capabilities to the Air Force, said Anne Chow, chief executive officer of AT&T Business. We are helping the Air Force optimize the value of our 5G and other networking capabilities at these 3 bases and stand ready to work with them to extend these services across the entirety of the Air Force if they so choose. The Air Force made the award using so-called Other Transaction Agreements under its Enterprise IT as a Service (EITaaS) program, which aims to increase network speeds and modernize IT infrastructure at the services bases to support multi-domain operations. According to the news release, AT&T 5G and networking-as-a-service capabilities will be able to support the Air Forces efforts on Internet of Things devices and power everything from augmented and virtual reality, robotics, drones and network edge storage and computing. We think it is vital to test commercially provided services like 5G and software-based networking-as-a-service capabilities as we explore ways to help us innovate and improve our global air, space and cyber readiness, said Col. Justin K. Collins, deputy of the Air Forces enterprise IT & cyber infrastructure division. We expect 5G service will help us improve the user experience and support a broad array of use cases that can enhance mission effectiveness. AT&T is also providing Base Area Network, Wide Area Network, telephony, internet access and highly secure interoperability with legacy systems at the three bases. Meanwhile, the Defense Department is also expected to award 5G contracts to service providers later this year at military bases across the United States. At least one of the bases, Nellis Air Force Base in Nevada, has decided on a vendor but has not announced the winner publicly.Sign up for the C4ISRNET newsletter about future battlefield technologies.For more newsletters click hereSign up for the C4ISRNET newsletter about future battlefield technologies.By giving us your email, you are opting in to the C4ISRNET Daily Brief.Andrew Eversden is a federal IT and cybersecurity reporter for the Federal Times and Fifth Domain. He previously worked as a congressional reporting fellow for the Texas Tribune and Washington intern for the Durango Herald. Andrew is a graduate of American University. \n",
      "3\n",
      " WASHINGTON  The U.S. Air Force has awarded a nearly $40 million contract toParsons to produce ground vehicles that can clear mines or unexploded ordnance from airfields  using a laser. The package covers the procurement of 13 Recovery of Airbase Denied by Ordnance (RADBO) vehicles, as well as three spares. The system is made up of a Cougar MRAP, Parsons' three-kilowatt ZEUS laser weapon, and an arm assembly that can move debris or other objects out of the way. The idea behind the RADBO is to allow airmen to clear threats from current or future airfields  hardly the laser warfare capability sought by Pentagon planners for decades, but still a potentially important step, as it represents the first DoD ground-based laser system to be ordered into full production. The service awarded Parsons the sole-source contract on Sept. 23. Work will be performed in Huntsville, Ala., with a completion date of Sept. 2023. According to a 2018 video from the Air Forces Installation and Mission Support Center, the majority of development work on the RADBO design was done at the Armys Redstone Arsenal near Huntsville. Parsons claims the ZEUS design can hit targets more than 300 meters away from the vehicle and is powerful enough to detonate small submunitions from cluster bombs, land mines, general purposed bombs and thick-cased artillery rounds, per a company announcement. This is Parsons innovation: delivering a game changing warfighting product, Hector Cuevas, Parsons executive vice president of missile defense and C5ISR, said in a statement. Were proud to partner with the Air Force in deploying this critical force protection and mission enabling technology that will greatly increase safe and effective explosive ordnance disposal operations.Aaron Mehta is Deputy Editor and Senior Pentagon Correspondent for Defense News, covering policy, strategy and acquisition at the highest levels of the Department of Defense and its international partners. \n",
      "4\n",
      " A developmental robot pilot that transforms manned aircraft into unmanned systems is flying again after the Air Force Research Laboratory took its ROBOpilot out for a test flight at Dugway Proving Ground, Utah, Sept. 24. ROBOpilots name belies the simplicity of the program. In order to turn a manned aircraft into an unmanned one, AFRL simply replaces the human pilot with a robot who interacts with the aircraft controls the same way a human would: it can pull the yoke, press pedals to control rudders and brakes, adjust the throttle and flip switches. In addition to the robots own internal GPS and inertial measurement unit, the system scans the gauges on the dashboard for information about the aircraft and its position, processing that information with a computer to independently fly the plane. Importantly, ROBOpilot requires no permanent modifications. All operators need to do is remove the pilots' seats and replace them with ROBOpilot. And if users determine that they want to return the aircraft to a manned mission, ROBOpilot is simply removed and the pilots' seats are reinstalled. The robotic system is the result of a Small Business Innovative Research (SBIR) award granted to DZYNE Technologies by the AFRLs Center for Rapid Innovation (CRI). Despite a successful first flight in August 2019, the system was later grounded after it maintained damage during a landing mishap. The CRI and DZYNE team analyzed the findings and incorporated the recommendations to ensure the success of this latest test, said Marc Owens, CRIs program manager for ROBOpilot. We determined the cause of the mishap, identified the best course of corrective action and were very pleased to be flight testing again. Since then, ROBOpilot has been cleared to fly again and installed in a new Cessna 206. On Sept. 24, the system returned to the skies for a 2.2 hour test flight over Utah. Since this is a completely new build with a different Cessna 206, we re-accomplished the flight test points completed on our first flight last year, Owen explained. ROBOpilot is too good an idea to let the mishap derail the development of this technology.Get a bi-weekly update on the challenges and opportunities surrounding the use of drones.For more newsletters, click hereSign up for the C4ISRNET newsletter about future battlefield technologies.By giving us your email, you are opting in to the C4ISRNET Daily Brief. \n",
      "5\n",
      "Out of index\n",
      "CORRECTION - Blackwing is a reconnaissance system. The dash speed of the Switchblade 600 is 115 mph. WASHINGTON  Building on its Switchblade 300 loitering missile legacy with the U.S. Army, AeroVironment is releasing a family of capabilities to include its new Switchblade 600, a larger version suited to go up against armored targets at greater ranges in denied and degraded environments. AeroVironment has provided the tube-launched, rucksack-portable Switchblade to the Army for roughly a decade, delivering thousands of them into theater, but the company sealed the largest loitering munitions deal to date with the service in May  a $146 million contract, funded at $76 million for the first year, to supply the 300 version of the system for the Lethal Miniature Aerial Missile Systems program. Our family of loitering missile systems is redefining and disrupting a multibillion-dollar missiles market, AeroVironment CEO Wahid Nawabi told reporters during a Sept. 30 media event. The family also includes Blackwing, a loitering reconnaissance system that can be deployed from a submarine while submerged and used in an underwater air-delivery canister. The ability to identify a threat on the battlefield, assess it, neutralize the threat with an extremely high degree of precision, with low to no collateral damage, while always having the option of waving off the mission and reengaging the same or different target, is at the core of our solution sets and capabilities, Nawabi said, and were going beyond that. Department of Defense customers wanted the same features of the 300, but with greater effects, Todd Hanning, AeroVironments product line manager for tactical missile systems, said during the same event. The 600 delivers with enhanced effects, greater standoff range and extended endurance, Hanning said. This all-in-one, man-portable solution includes everything required to successfully launch, fly, track and engage non-line-of-sight targets with lethal effects.Sign up for the Early Bird Brief, the defense industry's most comprehensive news and information, straight to your inbox.By giving us your email, you are opting in to the Early Bird Brief. The 50-pound system can be set up and operational in less than 10 minutes and is designed to be capable of launching from ground, air or mobile platforms, providing superior force overmatch while minimizing exposure to enemy direct and indirect fires, Hanning said. The new version can fly for 40 minutes with a range of more than 40 kilometers. The missile exceeds a 115 mph dash speed and carries an anti-armor warhead designed to neutralize armored vehicles without the need for external intelligence, surveillance and reconnaissance or fires assets. The new system comes with a touchscreen tablet-based fire control system with an option to pilot the vehicle manually or autonomously. The missile is secured through onboard encrypted data links and Selective Availability Anti-Spoofing Module GPS. The Switchblade 600 is also equipped with a patented wave-off capability where operators can abort missions at any time and recommit. From [artificial intelligence] to autonomy, were not stopping there. Were investing in future technologies like edge computing and artificial intelligence engines, latest-gen processing with massive computing power, Hanning said. We believe itll be the smartest loitering missile in the market.Battlefield payload delivery, including for lifesaving medical supply, is likely going to be an option commanders regularly seek from drones. AeroVironment began developing the 600 as a new class of loitering missiles to meet a set of requirements in an Army development program called Single Multi-Mission Attack Missile. But according to Brett Hush, the companys senior general manager of product line management for tactical missile systems, weve evolved beyond that. Other customers, including the U.S. Marine Corps and a number of DoD customers, have since adopted similar requirements, he said. Weve been developing very closely with a number of DoD customers, Hush said, The only one that we can talk about publicly at this point in time is the U.S. Marine Corps program, of which we are one of the competitors in the phase one development demonstration. He added there would be a fly-off in January followed by a downselect to a single supplier. The company has had a rigorous test schedule over the past several years for the Switchblade 600, according to Hanning. Most of that testing was ground-launched against both fixed and moving targets. I think we are up to about over 60 flights in our test program, he added, \"and well continue to do that through this next year. Then the 600 will progress into both maritime and aerial environments, Hanning said. AeroVironment is also continuing to find ways to integrate Switchblade into air and ground platforms. The company continues to team up with General Dynamics Land Systems to offer an integrated solution as part of its offering to the Armys Optionally Manned Fighting Vehicle competition. AeroVironment is also teaming with Kratos Defense and Security Systems to demonstrate a high-speed, long-range unmanned combat air vehicle that serves as a mothership to deliver large quantities of Switchblade 300s that can provide a mesh network of information back to a ground control station to tactically execute multiple attack scenarios cooperatively and to overwhelm and disable enemy systems, Hanning said. Initial air-launch testing will begin at the start of next year, Hush said. While AeroVironment is not one of the initial companies developing capabilities within the Armys Future Vertical Lift Air-Launched Effects, or FVL ALE, portfolio, we definitely see a way for AeroVironment to participate in that and really be a player in that market knowing that Switchblade 600 is definitely designed for air-launched effects, air-launched capability, Hush said, and thats something that well continue to work on and look at the opportunity to be a part of that effort. We definitely see its capabilities are directly aligned with that fight and with those platforms. When asked if the company submitted an offering to the ALE development competition, Nawabi said: Im not in a position to be able to comment on the specific details due to the competitive nature of the deal, but we believe that we have a lot to offer for the ALE program and initiative as a whole. I will keep you updated in the future.Jen Judson is the land warfare reporter for Defense News. She has covered defense in the Washington area for nearly a decade. She was previously a reporter at Politico and Inside Defense. She won the National Press Club's best analytical reporting award in 2014 and was named the Defense Media Awards' best young defense journalist in 2018. \n",
      "6\n",
      " WASHINGTON  The U.S. Air Force halted a delivery of the KC-46 yet again after problems with the electrical system were found on one new tanker slated to make its way to the service. The issue was first disclosed during an Oct. 1 hearing of the Senate Armed Services Committee, when Sen. Jeanne Shaheen, D-N.H., said that a KC-46 that was supposed to have been delivered Sept. 25 by Boeing to Pease Air National Guard Base had been delayed. They just learned that that delivery was canceled due to electrical problems with the aircraft, she said to Ellen Lord, the Pentagons top acquisition official. In a statement, Boeing said a minor electrical issue on a single KC-46 was found by the company during acceptance tests. In flight, one of the radar warning receivers is indicating a fault through the planes fault management system, Boeing spokesman Larry Chambers said. We think it may be a poor electrical connection that needs to be re-seated. We are currently evaluating a fix. Resolving this has caused a minor delay to delivery of this single airplane. Boeing expects to conclude this activity within the next several days and is working with the Air Force on a new delivery schedule. The issue is not a design or safety-of-flight issue that would pose risk to the aircrew, he added. But Shaheen, speaking at the hearing, expressed frustration with Boeing over its repeated difficulties designing and building the new tankers, with challenges over the life span of the program that have included wiring issues and problems with the vision system that allows boom operators to safely refuel other planes. Ive spoken to a whole number of officials from Boeing from our military leadership as recently as last week with Gen. [Jacqueline] Van Ovost, who is the head of Air Mobility Command, all of whom have assured me that weve had good conversations between the [Department of Defense] and Boeing, and that the problems are being worked out. Were not going to continue to see these challenges, Shaheen said.Sign up for the Early Bird Brief, the defense industry's most comprehensive news and information, straight to your inbox.By giving us your email, you are opting in to the Early Bird Brief. And yet weve got another aircraft thats not being delivered because of another problem. So how do we fix this? Because it is an ongoing challenge thats affecting our ability to our national security, long term if we dont get these refueling tankers up and running. Lord responded that KC-46 problems have included design and engineering flaws as well as issues occurring during the manufacturing of the jet. The KC 46 has been an extremely problematical program. I speak with Leanne Caret, the CEO of the defense side of Boeing, on a regular basis about it, Lord said. One issue is frankly the technical solution. That was the original design [and] is now being redesigned, but also we have had a myriad of manufacturing issues with [foreign object debris] and other issues. However, she said the root cause of the problems is the fixed-price firm contract used for the KC-46 program, which makes Boeing financially responsible for any costs beyond the $4.9 billion ceiling. So far, Boeing has spent more than $4.7 billion in company funds on the KC-46 program  almost equivalent to the Air Forces own investment in the program. The Air Force plans to buy 179 tankers, 38 of which have already been delivered to the service. Seven KC-46s have gone to Pease ANGB. This story is developing. Stay tuned for updates.Valerie Insinna is Defense News' air warfare reporter. She previously worked the Navy/congressional beats for Defense Daily, which followed almost three years as a staff writer for National Defense Magazine. Prior to that, she worked as an editorial assistant for the Tokyo Shimbuns Washington bureau. \n",
      "7\n",
      " LONDON  British efforts to introduce a new family of long-endurance, medium-altitude drones has moved a step closer with an announcement by the Ministry of Defence Sept. 28 that the first General Atomics Protector RG Mk1 off the production had made its maiden flight. The MoD said the first production version of the drone flew in California on Sept. 25. The flight comes just over two months after the British announced they had inked a 65 million (U.S. $83 million) deal with General Atomics Aeronautical Systems to supply the first three of an expected fleet of at least 16 drones. Three ground control stations and other associated support equipment were also included in the deal. The contract contains options for a further 13 air vehicles and supporting equipment valued at around 180 million. A commitment for the additional drones could come in April next year. Progress with the Protector test schedule follows a two-year delay imposed on the program by the MoD in 2017 after the British ran into wider defense budget problems. The delay was primarily responsible for a 40 percent hike in Protector program costs, top MoD official Stephen Lovegrove said in a letter to the Parliamentary Public Accounts Committee published earlier this year.Sign up for the Early Bird Brief, the defense industry's most comprehensive news and information, straight to your inbox.By giving us your email, you are opting in to the Early Bird Brief. The Protector vehicles will replace General Atomics Reaper drones widely used by the Royal Air Force in operations in Afghanistan and the Middle East, most recently providing reconnaissance, surveillance and strike capabilities in the fight against the Islamic State group in Syria and Iraq.Defence Minister Viola Amherd considers the result, however close, a mandate to continue ongoing evaluations of the Eurofighter, the Rafale, the F-18 Super Hornet and the F-35A. Protector is the British version of General Atomics latest Predator variant, the MQ-9B Sky Guardian. The RAF drone will fly longer and, armed with Brimstone and Paveway IV precision weapons, hit harder than the Reaper. Crucially, the machine is also in line to be approved to fly in non-segregated airspace in places like the U.K. British Defence Minister Jeremy Quin said the inaugural flight of the production drone was a welcome step in development. With increased range and endurance, greater ISR and weapons capacity and improved weather resilience, Protector will play a vital intelligence and deterrent role in countering future threats, he was quoted as saying in a statement. For the moment the first Protector will stay in the United States to support systems testing as part of an MoD, U.S. Air Force and General Atomics team. Following completion of the work the drone will be delivered to the MoD in the summer of 2021. The platform will continue to be based in the United States to allow the RAF to complete its test and evaluation program. Operating from its base at RAF Waddington, eastern England, Protector is scheduled to enter service by mid-2024. \n",
      "8\n",
      " WASHINGTON  The U.S. State Department has preemptively cleared Switzerland to purchase the F-35A joint strike fighter and F/A-18E/F Super Hornet, just days after a public vote narrowly okd the Swiss government to move forward with a planned procurement of new fighter aircraft. The two packages were posted on the Defense Security Cooperation Agencys website Wednesday. DSCA posts formal notifications to Congress that State deems the sales are worth moving forward. However, the potential packages are not a sign that Switzerland has decided the Lockheed Martin F-35 or Boeing produced F/A-18 are their fighter of the future. Rather, the announcement is a bureaucratic move by State and DSCA to make sure that, should the jets be selected, there will not be delays in getting the stealth fighter cleared. The DSCA has previously done so with F-35 requests from Belgium and Canada. The F-35 package comes with an estimated price tag of $6.58 billion, while the F/A-18 package with a price tag of $7.452 billion. Both those totals, if they represent final figures  and DSCA notifications often do not  would exceed the approved $6.5 billion budget for the program. In addition, State pre-cleared Switzerland to purchase the Patriot air defense system, a contender for a complimentary ground-based capability. The five Patriot batteries come with an estimated $2.2 billion price tag. A national referendum on Sept. 27 approved the plan to go ahead with the procurement, along with $2 billion for a complementary ground-based air defense system, was narrowly approved by 50.1 percent of voters, a margin of just 8,670 votes. Switzerlands Air 2030 program, which includes an estimated $6.5 billion to buy 30-40 new aircraft for policing the countrys airspace, has the F-35A and Super Hornet facing off against the Eurofighter Typhoon, the Dassault Rafale. The Saab Gripen had been in the running as well, but dropped out last summer based on the criteria from the Swiss government. All vendors must meet a deadline of Nov. 18 to deliver final proposals. The government will then evaluate the bids throughout the first half of 2021 and make a decision on the aircraft type and missile defense hardware by June.Sign up for the Early Bird Brief, the defense industry's most comprehensive news and information, straight to your inbox.By giving us your email, you are opting in to the Early Bird Brief. Sebastian Sprenger in Cologne, Germany contributed to this report.Aaron Mehta is Deputy Editor and Senior Pentagon Correspondent for Defense News, covering policy, strategy and acquisition at the highest levels of the Department of Defense and its international partners. \n",
      "9\n",
      " COLOGNE, Germany  Swiss voters have approved a government plan to spend $6.5 billion on new fighter aircraft by a margin of 8,670 votes, with the two U.S. vendors in the race feeling the backlash of anti-Trump sentiments. Sundays vote translates into a razor-thin majority of 50.1 percent, or 1,605,700 votes, in favor of the acquisition. There was 49.9 percent, or 1,597,030 votes, against. The voter turnout was 59.4 percent, according to figures published online Sunday evening by the Federal Chancellery. Defence Minister Viola Amherd told reporters she considers the result, however close, a mandate to continue ongoing evaluations of the Eurofighter, the Rafale, the F-18 Super Hornet and the F-35A. The vote represents a long-term investment in the security of the Swiss population and infrastructure, she said. Prodded by reporters about the the narrowness of the vote, she said: In a democracy its a given that we respect the majority decision. The Swiss legislature last week approved the budget for the Air 2030 modernization program, which includes $6.5 billion for 30-40 new aircraft and $2 billion for a complementary ground-based, air defense system.The Swiss have kicked off flying season for the five types of combat aircraft under consideration to replace the country's aging fleet, with several demonstrations scheduled between now and early July. Amherd stressed that the aircraft budget is to be seen as a ceiling. If we can get suitable aircraft for less, we will certainly look at that, she said.Sign up for the Early Bird Brief, the defense industry's most comprehensive news and information, straight to your inbox.By giving us your email, you are opting in to the Early Bird Brief. All vendors must meet a deadline of Nov. 18 to deliver final proposals. The government will then evaluate the bids throughout the first half of 2021 and make a decision on the aircraft type and missile defense hardware by June. Opponents of the plan could still derail it by seeking another referendum, a step that would require 100,000 signatures and could take years to unfold. The Swiss opposition was energized in part by voters' views about the government of U.S. President Donald Trump, according to local media reports. During the pre-referendum campaign, the two U.S. vendors in the running, Boeing and Lockheed Martin, saw themselves lumped in with his foreign policy approach, considered reckless by many in the wealthy European countries such as Switzerland.Sebastian Sprenger is associate editor for Europe at Defense News, reporting on the state of the defense market in the region, and on U.S.-Europe cooperation and multi-national investments in defense and global security. Previously he served as managing editor for Defense News. He is based in Cologne, Germany. \n"
     ]
    }
   ],
   "source": [
    "for e, i in enumerate(samples):\n",
    "    print(e)\n",
    "    sample = \"\"\n",
    "    temp = remove_empty_string(i['content'])\n",
    "    for t in temp:\n",
    "        sample += t\n",
    "        sample += \" \"\n",
    "    print(sample)"
   ]
  }
 ],
 "metadata": {
  "kernelspec": {
   "display_name": "Python 3",
   "language": "python",
   "name": "python3"
  },
  "language_info": {
   "codemirror_mode": {
    "name": "ipython",
    "version": 3
   },
   "file_extension": ".py",
   "mimetype": "text/x-python",
   "name": "python",
   "nbconvert_exporter": "python",
   "pygments_lexer": "ipython3",
   "version": "3.8.5"
  }
 },
 "nbformat": 4,
 "nbformat_minor": 4
}
