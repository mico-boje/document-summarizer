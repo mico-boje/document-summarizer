{
 "cells": [
  {
   "cell_type": "code",
   "execution_count": 1,
   "metadata": {},
   "outputs": [
    {
     "name": "stdout",
     "output_type": "stream",
     "text": [
      "Loaded Stories 92579\n"
     ]
    }
   ],
   "source": [
    "import os\n",
    "from pathlib import Path\n",
    "from os import listdir\n",
    "\n",
    "# load doc into memory\n",
    "def load_doc(filename):\n",
    "    # open the file as read only\n",
    "    file = open(filename, encoding='utf-8')\n",
    "    # read all text\n",
    "    text = file.read()\n",
    "    # close the file\n",
    "    file.close()\n",
    "    return text\n",
    "\n",
    "# load all stories in a directory\n",
    "def load_stories(directory):\n",
    "    for name in listdir(directory):\n",
    "        filename = directory + '/' + name\n",
    "        # load document\n",
    "        doc = load_doc(filename)\n",
    "\n",
    "# split a document into news story and highlights\n",
    "def split_story(doc):\n",
    "    # find first highlight\n",
    "    index = doc.find('@highlight')\n",
    "    # split into story and highlights\n",
    "    story, highlights = doc[:index], doc[index:].split('@highlight')\n",
    "    # strip extra white space around each highlight\n",
    "    highlights = [h.strip() for h in highlights if len(h) > 0]\n",
    "    return story, highlights\n",
    "\n",
    "# load all stories in a directory\n",
    "def load_stories(directory):\n",
    "    all_stories = list()\n",
    "    for name in listdir(directory):\n",
    "        filename = directory + '/' + name\n",
    "        # load document\n",
    "        doc = load_doc(filename)\n",
    "        # split into story and highlights\n",
    "        story, highlights = split_story(doc)\n",
    "        # store\n",
    "        all_stories.append({'story':story, 'highlights':highlights})\n",
    "    return all_stories\n",
    "\n",
    "# load stories\n",
    "p = Path(os.getcwd()).parents[0]\n",
    "cnn_path = str(p) + r'/data/external/cnn/stories'\n",
    "stories = load_stories(cnn_path)\n",
    "print('Loaded Stories %d' % len(stories))"
   ]
  },
  {
   "cell_type": "code",
   "execution_count": 6,
   "metadata": {},
   "outputs": [
    {
     "name": "stdout",
     "output_type": "stream",
     "text": [
      "<class 'list'>\n",
      "Washington (CNN) -- Pro-gun activist Adam Kokesh, recently seen in an Internet video loading and cocking a shotgun, is being held in a Washington jail for three days pending a detention hearing on Monday, a judge ruled.\n",
      "\n",
      "He is charged with carrying a rifle or shotgun outside a home or place of business, an offense that carries a maximum of five years in prison and a fine of up to $5,000.\n",
      "\n",
      "Kokesh, an Iraq veteran, made headlines with a July Fourth video posted to YouTube in which he loaded a shotgun in the middle of the national capital's Freedom Plaza.\n",
      "\n",
      "He also used Facebook to call for an armed march in Washington for the same day but called off the event in May. It is illegal to carry firearms in the District of Columbia.\n",
      "\n",
      "District of Columbia Magistrate Judge Lori Parker said Kokesh \"poses a danger\" and went \"out of his way\" to violate the district's laws.\n",
      "\n",
      "Kokesh's attorney, Peter Cooper, said after the appearance in the Superior Court of the District of Columbia that his client is making a \"political statement,\" but argued the government is doing the same thing.\n",
      "\n",
      "\"Their allegation about danger, I believe, is unwarranted,\" Cooper said.\n",
      "\n",
      "Kokesh was originally arrested July 9 after a police search of his suburban Washington home in Herndon, Virginia, found a firearm and an illicit drug, an illegal combination in the state of Virginia.\n",
      "\n",
      "He posted bond on Thursday for that charge, but \"never saw the light of day\" as police picked him up soon afterward, Cooper said.\n",
      "\n",
      "Kokesh has a history of publicly airing his opinions. He was discharged from the Marines in 2007 for wearing his uniform during an anti-war protest.\n",
      "\n",
      "In his now infamous YouTube video, Kokesh states: \"We will not be silent. We will not obey. We will not allow our government to destroy our humanity.\"\n",
      "\n",
      "Then, loading shells into the shotgun, he looks into a camera, saying, \"We are the final American revolution. See you next Independence Day.\"\n",
      "\n",
      "CNN's Leslie Bentz and Steve Brusk contributed to this report.\n",
      "\n",
      "\n",
      "['Kokesh faces charges related to video made in District of Columbia', \"In video, he loads a shotgun in the middle of Washington's Freedom Plaza\", 'It is illegal to carry firearms in the District of Columbia']\n"
     ]
    }
   ],
   "source": [
    "print(type(stories))\n",
    "print(stories[1]['story'])\n",
    "print(stories[1]['highlights'])"
   ]
  },
  {
   "cell_type": "code",
   "execution_count": 8,
   "metadata": {},
   "outputs": [
    {
     "name": "stderr",
     "output_type": "stream",
     "text": [
      "[nltk_data] Downloading package punkt to /home/miboj/nltk_data...\n",
      "[nltk_data]   Package punkt is already up-to-date!\n",
      "[nltk_data] Downloading package stopwords to /home/miboj/nltk_data...\n",
      "[nltk_data]   Package stopwords is already up-to-date!\n"
     ]
    }
   ],
   "source": [
    "import nltk\n",
    "from nltk import word_tokenize, sent_tokenize\n",
    "from nltk.corpus import stopwords\n",
    "# from nltk.stem.porter import *\n",
    "# Might use stemming to see the difference?\n",
    "import string\n",
    "import heapq\n",
    "\n",
    "nltk.download('punkt')\n",
    "nltk.download('stopwords')\n",
    "stpwrds = stopwords.words('english') + list(string.punctuation) + ['—', '“', '”', \"'\", \"’\"]\n",
    "\n",
    "def remove_empty_string(input_string):\n",
    "    for e, i in enumerate(input_string):\n",
    "        if i[-1] == ' ' and input_string[e+1][-1] == ' ':\n",
    "            input_string[e] = i.rstrip()\n",
    "    joined_string = ''.join(input_string)\n",
    "    for e, i in enumerate(joined_string):\n",
    "        if i == ' ' and joined_string[e+1] == ' ':\n",
    "            del i\n",
    "    return joined_string\n",
    "\n",
    "def calculate_word_frequency(input_string):\n",
    "    word_freq = {}\n",
    "    for word in word_tokenize(input_string):\n",
    "        if word.lower() not in stpwrds:\n",
    "            if word not in word_freq.keys():\n",
    "                word_freq[word] = 1\n",
    "            else:\n",
    "                word_freq[word] += 1\n",
    "    max_freq = max(word_freq.values())\n",
    "\n",
    "    for word in word_freq.keys():\n",
    "        word_freq[word] = (word_freq[word]/max_freq)\n",
    "    return word_freq\n",
    "\n",
    "\n",
    "def calculate_sentence_scores(sentence_tokens, word_freq):\n",
    "    sentence_scores = {}\n",
    "    for sent in sentence_tokens:\n",
    "        for word in nltk.word_tokenize(sent.lower()):\n",
    "            if word in word_freq.keys():\n",
    "                if sent not in sentence_scores.keys():\n",
    "                    sentence_scores[sent] = word_freq[word]\n",
    "                else:\n",
    "                    sentence_scores[sent] += word_freq[word]\n",
    "                    \n",
    "    return sentence_scores\n",
    "\n",
    "def summarize_sentences(summary_max_length, sentence_scores):\n",
    "#summary_max_len = int(len(sent_list)*0.3)\n",
    "    summary_sentences = heapq.nlargest(summary_max_length, sentence_scores, key=sentence_scores.get)\n",
    "    summary = ' '.join(summary_sentences)\n",
    "    return summary\n"
   ]
  },
  {
   "cell_type": "code",
   "execution_count": 11,
   "metadata": {},
   "outputs": [],
   "source": [
    "raw_string = [\" ROME — Defying reports that their planned partnership is \", \"doomed to fail\", \", France’s Naval Group and \", \"Italy’s Fincantieri\", \" have announced a joint venture to build and export naval vessels. \", \" The two \", \"state-controlled shipyards\", \" said they were forming a 50-50 joint venture after months of talks to integrate their activities. The move comes as Europe’s fractured shipbuilding industry faces stiffer global competition. \", \" The firms said in a statement that the deal would allow them to “jointly prepare winning offers for binational programs and export market,” as well as create joint supply chains, research and testing. \", \" Naval Group and Fincantieri first announced talks on cooperation last year after the latter negotiated a controlling share in French shipyard STX. But the deal was reportedly losing momentum due to resistance from French industry and a political row between France and Italy over migrants. \", \" The new deal falls short of the 10 percent share swap predicted by French Economy and Finance Minister Bruno Le Maire earlier this year, and far short of the total integration envisaged by Fincantieri CEO Giuseppe Bono. \", \" The statement called the joint venture the “first steps” toward the creation of an alliance that would create “a more efficient and competitive European shipbuilding industry.”\", \" Naval Group CEO Hervé Guillou, speaking at the Euronaval trade expo in Paris on Oct. 24, said the alliance is based on “two countries sharing a veritable naval ambition.”\", \" The joint venture is necessary because the “context of the global market has changed drastically,” he added, specifically mentioning new market entrants Russia, China, Singapore, Ukraine, India and Turkey.\", \"Sign up for the Early Bird Brief, the defense industry's most comprehensive news and information, straight to your inbox.\", \"By giving us your email, you are opting in to the Early Bird Brief.\", \" When asked about an initial product to be tackled under the alliance, Guillou acknowledged: “The answer is simple: there is nothing yet.”\", \" However, the firms said they are working toward a deal to build four logistics support ships for the French Navy, which will be based on an Italian design. \", \"Competition flares up for the follow-on portion of a deal previously won by the French shipbuilder.\", \" The firms also plan to jointly bid next year on work for midlife upgrades for Horizon frigates, which were built by France and Italy and are in service with both navies. The work would include providing a common combat management system. \", \" The statement was cautious about future acceleration toward integration. “A Government-to-Government Agreement would be needed to ensure the protection of sovereign assets, a fluid collaboration between the French and Italian teams and encourage further coherence of the National assistance programs, which provide a framework and support export sales,” the statement said.\", \" But the firms were optimistic the deal would be “a great opportunity for both groups and their eco-systems, by enhancing their ability to better serve the Italian and French navies, to capture new export contracts, to increase research funding and, ultimately, improve the competitiveness of both French and Italian naval sectors.”\", \" \", \"Sebastian Sprenger\", \" in Paris contributed to this report.\"]\n",
    "#cleaned_string = remove_empty_string(raw_string) # \n",
    "cleaned_string = stories[1]['story']\n",
    "\n",
    "word_freq = calculate_word_frequency(cleaned_string)\n",
    "sentence_scores = calculate_sentence_scores(nltk.sent_tokenize(cleaned_string), word_freq)\n",
    "\n",
    "max_len = int(len(sent_tokenize(cleaned_string))*0.2)\n",
    "summary = summarize_sentences(max_len, sentence_scores)"
   ]
  },
  {
   "cell_type": "code",
   "execution_count": 12,
   "metadata": {},
   "outputs": [
    {
     "name": "stdout",
     "output_type": "stream",
     "text": [
      "Original length:  2000\n",
      "Summary length:  477\n",
      "\n",
      "Original:  Washington (CNN) -- Pro-gun activist Adam Kokesh, recently seen in an Internet video loading and cocking a shotgun, is being held in a Washington jail for three days pending a detention hearing on Monday, a judge ruled.\n",
      "\n",
      "He is charged with carrying a rifle or shotgun outside a home or place of business, an offense that carries a maximum of five years in prison and a fine of up to $5,000.\n",
      "\n",
      "Kokesh, an Iraq veteran, made headlines with a July Fourth video posted to YouTube in which he loaded a shotgun in the middle of the national capital's Freedom Plaza.\n",
      "\n",
      "He also used Facebook to call for an armed march in Washington for the same day but called off the event in May. It is illegal to carry firearms in the District of Columbia.\n",
      "\n",
      "District of Columbia Magistrate Judge Lori Parker said Kokesh \"poses a danger\" and went \"out of his way\" to violate the district's laws.\n",
      "\n",
      "Kokesh's attorney, Peter Cooper, said after the appearance in the Superior Court of the District of Columbia that his client is making a \"political statement,\" but argued the government is doing the same thing.\n",
      "\n",
      "\"Their allegation about danger, I believe, is unwarranted,\" Cooper said.\n",
      "\n",
      "Kokesh was originally arrested July 9 after a police search of his suburban Washington home in Herndon, Virginia, found a firearm and an illicit drug, an illegal combination in the state of Virginia.\n",
      "\n",
      "He posted bond on Thursday for that charge, but \"never saw the light of day\" as police picked him up soon afterward, Cooper said.\n",
      "\n",
      "Kokesh has a history of publicly airing his opinions. He was discharged from the Marines in 2007 for wearing his uniform during an anti-war protest.\n",
      "\n",
      "In his now infamous YouTube video, Kokesh states: \"We will not be silent. We will not obey. We will not allow our government to destroy our humanity.\"\n",
      "\n",
      "Then, loading shells into the shotgun, he looks into a camera, saying, \"We are the final American revolution. See you next Independence Day.\"\n",
      "\n",
      "CNN's Leslie Bentz and Steve Brusk contributed to this report.\n",
      "\n",
      "\n",
      "\n",
      "Summary:  District of Columbia Magistrate Judge Lori Parker said Kokesh \"poses a danger\" and went \"out of his way\" to violate the district's laws. Kokesh's attorney, Peter Cooper, said after the appearance in the Superior Court of the District of Columbia that his client is making a \"political statement,\" but argued the government is doing the same thing. He posted bond on Thursday for that charge, but \"never saw the light of day\" as police picked him up soon afterward, Cooper said.\n"
     ]
    }
   ],
   "source": [
    "print('Original length: ', len(cleaned_string))\n",
    "print('Summary length: ', len(summary))\n",
    "print()\n",
    "\n",
    "print('Original: ', cleaned_string)\n",
    "print()\n",
    "print('Summary: ', summary)"
   ]
  }
 ],
 "metadata": {
  "kernelspec": {
   "display_name": "Python 3",
   "language": "python",
   "name": "python3"
  },
  "language_info": {
   "codemirror_mode": {
    "name": "ipython",
    "version": 3
   },
   "file_extension": ".py",
   "mimetype": "text/x-python",
   "name": "python",
   "nbconvert_exporter": "python",
   "pygments_lexer": "ipython3",
   "version": "3.8.3"
  }
 },
 "nbformat": 4,
 "nbformat_minor": 4
}
