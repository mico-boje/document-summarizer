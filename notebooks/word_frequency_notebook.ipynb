{
 "cells": [
  {
   "cell_type": "code",
   "execution_count": 2,
   "metadata": {},
   "outputs": [
    {
     "name": "stdout",
     "output_type": "stream",
     "text": [
      "Loaded Stories 92579\n"
     ]
    }
   ],
   "source": [
    "import os\n",
    "from pathlib import Path\n",
    "from os import listdir\n",
    "\n",
    "# load doc into memory\n",
    "def load_doc(filename):\n",
    "    # open the file as read only\n",
    "    file = open(filename, encoding='utf-8')\n",
    "    # read all text\n",
    "    text = file.read()\n",
    "    # close the file\n",
    "    file.close()\n",
    "    return text\n",
    "\n",
    "# load all stories in a directory\n",
    "def load_stories(directory):\n",
    "    for name in listdir(directory):\n",
    "        filename = directory + '/' + name\n",
    "        # load document\n",
    "        doc = load_doc(filename)\n",
    "\n",
    "# split a document into news story and highlights\n",
    "def split_story(doc):\n",
    "    # find first highlight\n",
    "    index = doc.find('@highlight')\n",
    "    # split into story and highlights\n",
    "    story, highlights = doc[:index], doc[index:].split('@highlight')\n",
    "    # strip extra white space around each highlight\n",
    "    highlights = [h.strip() for h in highlights if len(h) > 0]\n",
    "    return story, highlights\n",
    "\n",
    "# load all stories in a directory\n",
    "def load_stories(directory):\n",
    "    all_stories = list()\n",
    "    for name in listdir(directory):\n",
    "        filename = directory + '/' + name\n",
    "        # load document\n",
    "        doc = load_doc(filename)\n",
    "        # split into story and highlights\n",
    "        story, highlights = split_story(doc)\n",
    "        # store\n",
    "        all_stories.append({'story':story, 'highlights':highlights})\n",
    "    return all_stories\n",
    "\n",
    "# load stories\n",
    "p = Path(os.getcwd()).parents[0]\n",
    "cnn_path = str(p) + r'/data/external/cnn/stories'\n",
    "stories = load_stories(cnn_path)\n",
    "print('Loaded Stories %d' % len(stories))"
   ]
  },
  {
   "cell_type": "code",
   "execution_count": 3,
   "metadata": {},
   "outputs": [
    {
     "name": "stderr",
     "output_type": "stream",
     "text": [
      "[nltk_data] Downloading package punkt to /home/miboj/nltk_data...\n",
      "[nltk_data]   Package punkt is already up-to-date!\n",
      "[nltk_data] Downloading package stopwords to /home/miboj/nltk_data...\n",
      "[nltk_data]   Package stopwords is already up-to-date!\n"
     ]
    }
   ],
   "source": [
    "import nltk\n",
    "from nltk import word_tokenize, sent_tokenize\n",
    "from nltk.corpus import stopwords\n",
    "# from nltk.stem.porter import *\n",
    "# Might use stemming to see the difference?\n",
    "import string\n",
    "import heapq\n",
    "\n",
    "nltk.download('punkt')\n",
    "nltk.download('stopwords')\n",
    "stpwrds = stopwords.words('english') + list(string.punctuation) + ['—', '“', '”', \"'\", \"’\"]\n",
    "\n",
    "def remove_empty_string(input_string):\n",
    "    for e, i in enumerate(input_string):\n",
    "        if i[-1] == ' ' and input_string[e+1][-1] == ' ':\n",
    "            input_string[e] = i.rstrip()\n",
    "    joined_string = ''.join(input_string)\n",
    "    for e, i in enumerate(joined_string):\n",
    "        if i == ' ' and joined_string[e+1] == ' ':\n",
    "            del i\n",
    "    return joined_string\n",
    "\n",
    "def calculate_word_frequency(input_string):\n",
    "    word_freq = {}\n",
    "    for word in word_tokenize(input_string):\n",
    "        if word.lower() not in stpwrds:\n",
    "            if word not in word_freq.keys():\n",
    "                word_freq[word] = 1\n",
    "            else:\n",
    "                word_freq[word] += 1\n",
    "    max_freq = max(word_freq.values())\n",
    "\n",
    "    for word in word_freq.keys():\n",
    "        word_freq[word] = (word_freq[word]/max_freq)\n",
    "    return word_freq\n",
    "\n",
    "\n",
    "def calculate_sentence_scores(sentence_tokens, word_freq):\n",
    "    sentence_scores = {}\n",
    "    for sent in sentence_tokens:\n",
    "        for word in nltk.word_tokenize(sent.lower()):\n",
    "            if word in word_freq.keys():\n",
    "                if sent not in sentence_scores.keys():\n",
    "                    sentence_scores[sent] = word_freq[word]\n",
    "                else:\n",
    "                    sentence_scores[sent] += word_freq[word]\n",
    "                    \n",
    "    return sentence_scores\n",
    "\n",
    "def summarize_sentences(summary_max_length, sentence_scores):\n",
    "#summary_max_len = int(len(sent_list)*0.3)\n",
    "    summary_sentences = heapq.nlargest(summary_max_length, sentence_scores, key=sentence_scores.get)\n",
    "    summary = ' '.join(summary_sentences)\n",
    "    return summary\n"
   ]
  },
  {
   "cell_type": "code",
   "execution_count": 4,
   "metadata": {},
   "outputs": [],
   "source": [
    "raw_string = [\" ROME — Defying reports that their planned partnership is \", \"doomed to fail\", \", France’s Naval Group and \", \"Italy’s Fincantieri\", \" have announced a joint venture to build and export naval vessels. \", \" The two \", \"state-controlled shipyards\", \" said they were forming a 50-50 joint venture after months of talks to integrate their activities. The move comes as Europe’s fractured shipbuilding industry faces stiffer global competition. \", \" The firms said in a statement that the deal would allow them to “jointly prepare winning offers for binational programs and export market,” as well as create joint supply chains, research and testing. \", \" Naval Group and Fincantieri first announced talks on cooperation last year after the latter negotiated a controlling share in French shipyard STX. But the deal was reportedly losing momentum due to resistance from French industry and a political row between France and Italy over migrants. \", \" The new deal falls short of the 10 percent share swap predicted by French Economy and Finance Minister Bruno Le Maire earlier this year, and far short of the total integration envisaged by Fincantieri CEO Giuseppe Bono. \", \" The statement called the joint venture the “first steps” toward the creation of an alliance that would create “a more efficient and competitive European shipbuilding industry.”\", \" Naval Group CEO Hervé Guillou, speaking at the Euronaval trade expo in Paris on Oct. 24, said the alliance is based on “two countries sharing a veritable naval ambition.”\", \" The joint venture is necessary because the “context of the global market has changed drastically,” he added, specifically mentioning new market entrants Russia, China, Singapore, Ukraine, India and Turkey.\", \"Sign up for the Early Bird Brief, the defense industry's most comprehensive news and information, straight to your inbox.\", \"By giving us your email, you are opting in to the Early Bird Brief.\", \" When asked about an initial product to be tackled under the alliance, Guillou acknowledged: “The answer is simple: there is nothing yet.”\", \" However, the firms said they are working toward a deal to build four logistics support ships for the French Navy, which will be based on an Italian design. \", \"Competition flares up for the follow-on portion of a deal previously won by the French shipbuilder.\", \" The firms also plan to jointly bid next year on work for midlife upgrades for Horizon frigates, which were built by France and Italy and are in service with both navies. The work would include providing a common combat management system. \", \" The statement was cautious about future acceleration toward integration. “A Government-to-Government Agreement would be needed to ensure the protection of sovereign assets, a fluid collaboration between the French and Italian teams and encourage further coherence of the National assistance programs, which provide a framework and support export sales,” the statement said.\", \" But the firms were optimistic the deal would be “a great opportunity for both groups and their eco-systems, by enhancing their ability to better serve the Italian and French navies, to capture new export contracts, to increase research funding and, ultimately, improve the competitiveness of both French and Italian naval sectors.”\", \" \", \"Sebastian Sprenger\", \" in Paris contributed to this report.\"]\n",
    "#cleaned_string = remove_empty_string(raw_string) # \n",
    "cleaned_string = stories[1]['story']\n",
    "\n",
    "word_freq = calculate_word_frequency(cleaned_string)\n",
    "sentence_scores = calculate_sentence_scores(nltk.sent_tokenize(cleaned_string), word_freq)\n",
    "\n",
    "max_len = int(len(sent_tokenize(cleaned_string))*0.1)\n",
    "summary = summarize_sentences(max_len, sentence_scores)"
   ]
  },
  {
   "cell_type": "code",
   "execution_count": 5,
   "metadata": {},
   "outputs": [
    {
     "name": "stdout",
     "output_type": "stream",
     "text": [
      "Original:  LONDON, England (CNN) -- If your neighbor mentions their green roof you might think they have a moss problem. Maybe they are simply referring to the color. But you're unlikely to think that they have just had a mini ecosystem installed.\n",
      "\n",
      "Majora Carter says green roofs can help alleviate the problems caused by storm water\n",
      "\n",
      "Simply put, green roofs are gardens on your roof. They come in all shapes and sizes and range from a simple layer of turf to bite-sized hanging gardens of Babylon.\n",
      "\n",
      "But green roofs are not just aesthetic. They have important environmental benefits: they absorb storm water, reduce noise pollution, absorb heat (thus lessening the urban heat-island effect) and add an extra layer of insulation to buildings. That's why they are increasingly being used on new builds as the construction industry looks to make use of greener technologies..\n",
      "\n",
      "The concept of a green roof goes back centuries: The turf roofed dwellings of the Vikings are early examples, but the modern green roof we know today was developed in Germany 50 years ago. Since then, they have become increasingly popular, yet the industry still struggles against skeptics, who believe green roofs to be expensive and liable to leaking.\n",
      "\n",
      "The exception to the rule has been Germany, where the industry is now annually worth $77 million. Even by the end of the 1990s, 50 million square meters of German roofs, the equivalent of 10 percent of flat roofs, were recorded to be green.\n",
      "\n",
      "The industry is not faring so well in other parts of the world. While the UK has seen a steady increase in interest since the 1960s, a lack of input from the industry and policy-makers has left Britain far behind Germany's booming market.\n",
      "\n",
      "In North America, green roofs have taken even longer to catch on. Green Roofs for Healthy Cities, a Canadian non-profit industry association, conducted a survey in 2005 which indicated that only 233,000 square meters of green roofs existed in North America. But this was up 80 percent from the previous year, and the market continues to grow.\n",
      "\n",
      "Majora Carter, who set up Sustainable South Bronx to help lift the area out of poverty by creating green-collar jobs, is frustrated by this difference between the European and American industries. \"In Germany they are down to $20 per square meter, which is way cheaper than a regular roof here,\" she told CNN.\n",
      "\n",
      "\"There are mandates over there because of the storm water they retain,\" she continued, \"Which is a huge drain on their resources, as it is on ours. What we are trying to do is champion the policies behind storm water.\"\n",
      "\n",
      "Storm water is a growing problem in cities. The lack of permeable surfaces are loading drainage systems and increasing the risk of flooding. It's green roofs' ability to retain high levels of precipitation that are seen as way to control and slow the water run-off.\n",
      "\n",
      "The mandates Carter refers to are part of Germany's Green Area and Biotope Area Federal Law. They are not a legal requirement, but through incentives set up at a city level, the mandates have helped to encourage cheaper prices.\n",
      "\n",
      "Dusty Gedge, co-founder of Livingroof.org, a UK Web site promoting the green roof industry, believes it is the government's responsibility to help the industry grow. \"We need government bodies to accept certain civil engineering benefits, such as storm water amelioration, like the Germans, Austrians and Swiss do,\" he told CNN. \"This will encourage uptake.\"\n",
      "\n",
      "In many countries, the green roof industry is vulnerable to non-acceptance and a lack of understanding. Gedge says, \"There are problems with the construction industry viewing vegetation as a problem and not a benefit.\" Green roofs also struggle against better-known technologies such as solar panels, but Gedge points out, \"Solar panels can work better on green roofs than on gray roofs.\"\n",
      "\n",
      "Despite this lack of support, the green roof industry is growing. In London alone, there are approximately 1 million square meters of green roofs planned, with about 200,000 square meters already installed.\n",
      "\n",
      "And as climate change stays in the headlines, the popularity of green roofs is growing. According to Gedge, \"Over the last eight years, green roofs [in the UK] have gone from being a very marginal approach to a mainstream approach. Cities such as London and Sheffield are now asking for them as part of planning applications.\"\n",
      "\n",
      "But Gedge also believes that support from local government, as opposed to a centrally driven policy, is key to the industry's growth. \"In Switzerland, green roofs are federal law, but again this is interpreted at a cantonal and city level,\" he told CNN. \"This is a much better approach than driven by the center.\" Managing the industry through federal laws offers a general framework which can then be interpreted as needed. In an industry that varies from project to project, this flexibility is a valuable asset.\n",
      "\n",
      "So the green roof industry continues to grow -- but there's a feeling that government support could be better. With a little more encouragement, what once was an eccentric way to roof your home could soon become the universal standard, turning our cities into lush, green metropolises. But then, it's not easy being green.\n",
      "\n",
      "...................................\n",
      "\n",
      "Would you put a green roof on your home? Do green roofs really help the environment -- or are they an expensive indulgence? Share your views in the Sound Off box below.\n",
      "\n",
      "\n"
     ]
    }
   ],
   "source": [
    "print('Original: ', cleaned_string)"
   ]
  },
  {
   "cell_type": "code",
   "execution_count": 6,
   "metadata": {},
   "outputs": [
    {
     "name": "stdout",
     "output_type": "stream",
     "text": [
      "Summary:  Green roofs also struggle against better-known technologies such as solar panels, but Gedge points out, \"Solar panels can work better on green roofs than on gray roofs.\" Majora Carter says green roofs can help alleviate the problems caused by storm water\n",
      "\n",
      "Simply put, green roofs are gardens on your roof. Green Roofs for Healthy Cities, a Canadian non-profit industry association, conducted a survey in 2005 which indicated that only 233,000 square meters of green roofs existed in North America. Dusty Gedge, co-founder of Livingroof.org, a UK Web site promoting the green roof industry, believes it is the government's responsibility to help the industry grow.\n"
     ]
    }
   ],
   "source": [
    "print('Summary: ', summary)"
   ]
  },
  {
   "cell_type": "code",
   "execution_count": 7,
   "metadata": {},
   "outputs": [
    {
     "name": "stdout",
     "output_type": "stream",
     "text": [
      "Highlights:  Green roofs date back to before the time of the VikingsNot just aesthetic, they help fight against climate change, especially in citiesGermany's green roof market is the biggest, making up 10 percent of all flat roofsSupporters say government support is need to spur growth elsewhere\n"
     ]
    }
   ],
   "source": [
    "print('Highlights: ', ''.join(stories[1]['highlights']))"
   ]
  },
  {
   "cell_type": "code",
   "execution_count": 8,
   "metadata": {},
   "outputs": [
    {
     "name": "stdout",
     "output_type": "stream",
     "text": [
      "Original length:  5404\n",
      "Summary length:  663\n",
      "Highlight length:  283\n"
     ]
    }
   ],
   "source": [
    "print('Original length: ', len(cleaned_string))\n",
    "print('Summary length: ', len(summary))\n",
    "print('Highlight length: ', len(''.join(stories[1]['highlights'])))"
   ]
  },
  {
   "cell_type": "code",
   "execution_count": 9,
   "metadata": {},
   "outputs": [
    {
     "name": "stdout",
     "output_type": "stream",
     "text": [
      "[{'rouge-1': {'f': 0.18543045939213204, 'p': 0.1320754716981132, 'r': 0.3111111111111111}, 'rouge-2': {'f': 0.04026845221386467, 'p': 0.02857142857142857, 'r': 0.06818181818181818}, 'rouge-l': {'f': 0.1788617842289644, 'p': 0.13253012048192772, 'r': 0.275}}]\n",
      "\n"
     ]
    }
   ],
   "source": [
    "from rouge import Rouge\n",
    "rouge = Rouge()\n",
    "scores = rouge.get_scores(summary, ''.join(stories[1]['highlights']))\n",
    "#scores1 = rouge.get_scores(''.join(stories[1]['highlights']), ''.join(stories[1]['highlights']))\n",
    "print(scores)\n",
    "print()\n",
    "#print(scores1)"
   ]
  },
  {
   "cell_type": "code",
   "execution_count": 10,
   "metadata": {},
   "outputs": [
    {
     "name": "stdout",
     "output_type": "stream",
     "text": [
      "Majora Carter says green roofs can help alleviate the problems caused by storm water\n",
      "Storm water is a growing problem in cities.\n",
      "The mandates Carter refers to are part of Germany's Green Area and Biotope Area Federal Law. They are not a legal requirement, but through incentives set up at a city level, the mandates have helped to encourage cheaper prices.\n",
      "So the green roof industry continues to grow -- but there's a feeling that government support could be better.\n"
     ]
    }
   ],
   "source": [
    "# Gensim for comparison\n",
    "from gensim.summarization import summarize\n",
    "print(summarize(stories[1]['story'], ratio = 0.1))"
   ]
  },
  {
   "cell_type": "code",
   "execution_count": 11,
   "metadata": {},
   "outputs": [
    {
     "name": "stdout",
     "output_type": "stream",
     "text": [
      "[{'rouge-1': {'f': 0.17167381662583583, 'p': 0.10638297872340426, 'r': 0.4444444444444444}, 'rouge-2': {'f': 0.017316014232117635, 'p': 0.0106951871657754, 'r': 0.045454545454545456}, 'rouge-l': {'f': 0.15568861911147772, 'p': 0.10236220472440945, 'r': 0.325}}]\n",
      "\n"
     ]
    }
   ],
   "source": [
    "from rouge import Rouge\n",
    "rouge = Rouge()\n",
    "scores = rouge.get_scores(summarize(stories[1]['story'], ratio = 0.2), ''.join(stories[1]['highlights']))\n",
    "#scores1 = rouge.get_scores(''.join(stories[1]['highlights']), ''.join(stories[1]['highlights']))\n",
    "print(scores)\n",
    "print()\n",
    "#print(scores1)"
   ]
  }
 ],
 "metadata": {
  "kernelspec": {
   "display_name": "Python (NLP-env)",
   "language": "python",
   "name": "myenv"
  },
  "language_info": {
   "codemirror_mode": {
    "name": "ipython",
    "version": 3
   },
   "file_extension": ".py",
   "mimetype": "text/x-python",
   "name": "python",
   "nbconvert_exporter": "python",
   "pygments_lexer": "ipython3",
   "version": "3.8.5"
  }
 },
 "nbformat": 4,
 "nbformat_minor": 4
}
