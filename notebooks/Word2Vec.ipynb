{
 "cells": [
  {
   "cell_type": "code",
   "execution_count": 5,
   "metadata": {},
   "outputs": [],
   "source": [
    "import gensim.downloader as api\n",
    "import gensim\n",
    "from gensim.models import Phrases\n",
    "from gensim.models import KeyedVectors\n",
    "import numpy as np\n",
    "import nltk\n",
    "from nltk.corpus import stopwords\n",
    "import string\n",
    "from sklearn.metrics.pairwise import cosine_similarity\n",
    "import networkx as nx\n",
    "import ast"
   ]
  },
  {
   "cell_type": "code",
   "execution_count": 2,
   "metadata": {},
   "outputs": [],
   "source": [
    "info = api.info()  # show info about available models/datasets"
   ]
  },
  {
   "cell_type": "code",
   "execution_count": 3,
   "metadata": {},
   "outputs": [],
   "source": [
    "model = api.load(\"word2vec-google-news-300\")  # download the model and return as object ready for use\n",
    "#w2v = dict(zip(model.index2word, model.vectors))"
   ]
  },
  {
   "cell_type": "code",
   "execution_count": 6,
   "metadata": {},
   "outputs": [],
   "source": [
    "filename = r'/home/miboj/NLP/document-summarizer/data/processed/articles.json'\n",
    "file = open(filename, encoding='ascii', errors='ignore')\n",
    "text = file.read()\n",
    "file.close()\n",
    "\n",
    "d = ast.literal_eval(text)"
   ]
  },
  {
   "cell_type": "code",
   "execution_count": 28,
   "metadata": {},
   "outputs": [
    {
     "name": "stdout",
     "output_type": "stream",
     "text": [
      "[' Lt. Gen. David Allvin was confirmed by the Senate to be the Air Forces next vice chief of staff in a late-night vote Wednesday.', 'Allvins nomination to become vice chief and receive his fourth star was approved unanimously.', 'In a Thursday release, Chief of Staff Gen. Charles CQ Brown applauded Allvins confirmation.', 'I could not be more pleased with the confirmation of Gen. Allvin as the new vice chief of staff, Brown said.', 'When it comes to leading at the highest levels of joint strategy and policy, and as someone who sets the standard for critical collaboration with our allies and partners, there is no one more qualified for the role of vice chief.', 'Allvin will succeed the current vice chief, Gen. Seve Wilson, who is expected to retire after 39 years in uniform.', 'Wilson has served in his role since July 2016 and is the longest-serving vice chief in Air Force history.', 'Allvin now serves director of strategy, plans and policy for the Joint Staff at the Pentagon, and is a senior member of the United States delegation to the United Nations Military Staff Committee.Lt.', 'Gen. David Allvin is an experienced pilot who has commanded a n umber of wings, including the 438th Air Expeditionary Wing in Afghanistan.', 'He is a command pilot with more than 4,600 flight hours in more than 30 aircraft, including the F-15, F-16, KC-135, C-17 and C-130.']\n"
     ]
    }
   ],
   "source": [
    "print(d['tokens'][0:10])\n",
    "tokens_list = d['tokens']"
   ]
  },
  {
   "cell_type": "code",
   "execution_count": 37,
   "metadata": {},
   "outputs": [
    {
     "name": "stdout",
     "output_type": "stream",
     "text": [
      "--- 28.665889739990234 seconds ---\n"
     ]
    }
   ],
   "source": [
    "import time\n",
    "start_time = time.time()\n",
    "words= []\n",
    "stpwrds = stopwords.words('english') + list(string.punctuation) + ['—', '“', '”', \"'\", \"’\"]\n",
    "for e, i in enumerate(tokens_list):\n",
    "    a = nltk.word_tokenize(i)\n",
    "    for word in a:\n",
    "        if word not in stpwrds:\n",
    "            words.append(word)\n",
    "words[0][0:10]\n",
    "print(\"--- %s seconds ---\" % (time.time() - start_time))"
   ]
  },
  {
   "cell_type": "code",
   "execution_count": 38,
   "metadata": {},
   "outputs": [
    {
     "name": "stdout",
     "output_type": "stream",
     "text": [
      "1805595\n"
     ]
    }
   ],
   "source": [
    "print(len(words))"
   ]
  },
  {
   "cell_type": "code",
   "execution_count": 39,
   "metadata": {},
   "outputs": [
    {
     "ename": "AttributeError",
     "evalue": "'Word2VecKeyedVectors' object has no attribute 'train'",
     "output_type": "error",
     "traceback": [
      "\u001b[0;31m---------------------------------------------------------------------------\u001b[0m",
      "\u001b[0;31mAttributeError\u001b[0m                            Traceback (most recent call last)",
      "\u001b[0;32m<ipython-input-39-f78f4bcb3a98>\u001b[0m in \u001b[0;36m<module>\u001b[0;34m\u001b[0m\n\u001b[0;32m----> 1\u001b[0;31m \u001b[0mmodel\u001b[0m\u001b[0;34m.\u001b[0m\u001b[0mtrain\u001b[0m\u001b[0;34m(\u001b[0m\u001b[0mwords\u001b[0m\u001b[0;34m,\u001b[0m \u001b[0mtotal_examples\u001b[0m\u001b[0;34m=\u001b[0m\u001b[0mlen\u001b[0m\u001b[0;34m(\u001b[0m\u001b[0mwords\u001b[0m\u001b[0;34m)\u001b[0m\u001b[0;34m,\u001b[0m \u001b[0mepochs\u001b[0m\u001b[0;34m=\u001b[0m\u001b[0mmodel\u001b[0m\u001b[0;34m.\u001b[0m\u001b[0mepochs\u001b[0m\u001b[0;34m)\u001b[0m\u001b[0;34m\u001b[0m\u001b[0;34m\u001b[0m\u001b[0m\n\u001b[0m",
      "\u001b[0;31mAttributeError\u001b[0m: 'Word2VecKeyedVectors' object has no attribute 'train'"
     ]
    }
   ],
   "source": [
    "model.train(words, total_examples=len(words), epochs=model.epochs)"
   ]
  },
  {
   "cell_type": "code",
   "execution_count": 4,
   "metadata": {},
   "outputs": [],
   "source": [
    "import re\n",
    "def remove_empty_string(input_string):\n",
    "    for e, i in enumerate(input_string):\n",
    "        if i[-1] == ' ' and input_string[e+1][-1] == ' ':\n",
    "            input_string[e] = i.rstrip()\n",
    "    joined_string = ''.join(input_string)\n",
    "    for e, i in enumerate(joined_string):\n",
    "        if i == ' ' and joined_string[e+1] == ' ':\n",
    "            del i\n",
    "    sentences = nltk.sent_tokenize(joined_string)\n",
    "    return sentences\n"
   ]
  },
  {
   "cell_type": "code",
   "execution_count": 5,
   "metadata": {},
   "outputs": [],
   "source": [
    "raw_string = [\" ROME — Defying reports that their planned partnership is \", \"doomed to fail\", \", France’s Naval Group and \", \"Italy’s Fincantieri\", \" have announced a joint venture to build and export naval vessels. \", \" The two \", \"state-controlled shipyards\", \" said they were forming a 50-50 joint venture after months of talks to integrate their activities. The move comes as Europe’s fractured shipbuilding industry faces stiffer global competition. \", \" The firms said in a statement that the deal would allow them to “jointly prepare winning offers for binational programs and export market,” as well as create joint supply chains, research and testing. \", \" Naval Group and Fincantieri first announced talks on cooperation last year after the latter negotiated a controlling share in French shipyard STX. But the deal was reportedly losing momentum due to resistance from French industry and a political row between France and Italy over migrants. \", \" The new deal falls short of the 10 percent share swap predicted by French Economy and Finance Minister Bruno Le Maire earlier this year, and far short of the total integration envisaged by Fincantieri CEO Giuseppe Bono. \", \" The statement called the joint venture the “first steps” toward the creation of an alliance that would create “a more efficient and competitive European shipbuilding industry.”\", \" Naval Group CEO Hervé Guillou, speaking at the Euronaval trade expo in Paris on Oct. 24, said the alliance is based on “two countries sharing a veritable naval ambition.”\", \" The joint venture is necessary because the “context of the global market has changed drastically,” he added, specifically mentioning new market entrants Russia, China, Singapore, Ukraine, India and Turkey.\", \"Sign up for the Early Bird Brief, the defense industry's most comprehensive news and information, straight to your inbox.\", \"By giving us your email, you are opting in to the Early Bird Brief.\", \" When asked about an initial product to be tackled under the alliance, Guillou acknowledged: “The answer is simple: there is nothing yet.”\", \" However, the firms said they are working toward a deal to build four logistics support ships for the French Navy, which will be based on an Italian design. \", \"Competition flares up for the follow-on portion of a deal previously won by the French shipbuilder.\", \" The firms also plan to jointly bid next year on work for midlife upgrades for Horizon frigates, which were built by France and Italy and are in service with both navies. The work would include providing a common combat management system. \", \" The statement was cautious about future acceleration toward integration. “A Government-to-Government Agreement would be needed to ensure the protection of sovereign assets, a fluid collaboration between the French and Italian teams and encourage further coherence of the National assistance programs, which provide a framework and support export sales,” the statement said.\", \" But the firms were optimistic the deal would be “a great opportunity for both groups and their eco-systems, by enhancing their ability to better serve the Italian and French navies, to capture new export contracts, to increase research funding and, ultimately, improve the competitiveness of both French and Italian naval sectors.”\", \" \", \"Sebastian Sprenger\", \" in Paris contributed to this report.\"]\n",
    "sentences = remove_empty_string(raw_string)"
   ]
  },
  {
   "cell_type": "code",
   "execution_count": 16,
   "metadata": {},
   "outputs": [
    {
     "data": {
      "text/plain": [
       "(300,)"
      ]
     },
     "execution_count": 16,
     "metadata": {},
     "output_type": "execute_result"
    }
   ],
   "source": [
    "# The 'skipthoughts' module can be found at the root of the GitHub  repository linked above\n",
    "#import skipthoughts\n",
    "\n",
    "# You would need to download pre-trained models first\n",
    "#model = skipthoughts.load_model()\n",
    "\n",
    "#encoder = skipthoughts.Encoder(model)\n",
    "#encoded =  encoder.encode(sentences)\n",
    "a = model['ROME']\n",
    "a.shape"
   ]
  },
  {
   "cell_type": "code",
   "execution_count": 69,
   "metadata": {},
   "outputs": [
    {
     "name": "stdout",
     "output_type": "stream",
     "text": [
      "(15, 300)\n",
      "[-4.10647199e-02  1.15833033e-01  4.68179430e-02  3.01566735e-02\n",
      " -4.26390265e-02 -4.14140113e-02  5.09112950e-03 -9.14737883e-02\n",
      "  1.15961489e-01  7.05619480e-02 -5.54489263e-02 -5.17471970e-02\n",
      " -3.93617054e-02  3.07298626e-03 -1.31313161e-01  6.36556875e-02\n",
      "  6.80143997e-03 -1.62658679e-02  6.40272156e-03  2.78074903e-03\n",
      " -3.21697548e-02  2.42880124e-03  4.88068952e-02 -8.09830372e-02\n",
      "  1.16651453e-01 -6.45181352e-03  1.56701131e-02  8.51811966e-02\n",
      " -5.02133586e-02  3.33570529e-03  3.59264866e-02 -4.88997746e-02\n",
      " -1.36505791e-01 -5.90183365e-03  5.98376721e-02 -1.15436062e-02\n",
      " -1.11137075e-02 -1.40646266e-03 -4.94517435e-03  1.24216487e-02\n",
      "  2.25936228e-02  2.69987690e-02  4.87063865e-02  1.12339185e-01\n",
      " -1.01066259e-02 -9.16615352e-02 -5.91802182e-02  6.87017024e-02\n",
      " -4.55587624e-02  1.04249041e-01 -7.18622771e-03  1.48351587e-01\n",
      "  3.22079856e-02  2.01150548e-03 -4.05535478e-02  1.90111241e-02\n",
      " -1.46886411e-01 -1.08760668e-01  4.00569749e-02 -8.64456850e-02\n",
      " -2.33526807e-04  2.75971773e-02 -7.48556398e-02 -1.10468492e-01\n",
      " -9.52665910e-02  2.66935924e-02  1.47943909e-02  2.23056957e-02\n",
      " -3.29563305e-02 -1.64237644e-02 -8.06420357e-02 -6.86380046e-03\n",
      " -1.82296100e-02  1.13033131e-01 -7.13248863e-02 -6.69525170e-02\n",
      "  4.63077704e-02  2.06298820e-02  2.44127362e-02  7.68717887e-02\n",
      " -4.46883540e-03 -1.56547214e-01  3.82663893e-02  2.16210403e-02\n",
      "  5.85353700e-02 -4.26924341e-02 -8.06499959e-02  5.13385268e-02\n",
      "  1.40778900e-02  3.82219413e-02  7.48244569e-02 -6.88688859e-02\n",
      " -5.00594442e-02  2.02981709e-02  1.44719665e-02 -1.08128094e-01\n",
      "  4.80784549e-02 -7.10090951e-02  6.63896647e-02 -1.36400319e-02\n",
      "  7.40555473e-02 -8.88951346e-02 -4.43131822e-02 -7.20214788e-03\n",
      "  1.17257163e-02  2.93141230e-02 -8.11435825e-03 -1.88956887e-02\n",
      "  1.15192579e-01  8.29746414e-02 -5.02982736e-02 -3.56989409e-03\n",
      " -8.07919683e-03 -9.20746844e-02  1.43676757e-01  3.09713611e-02\n",
      " -1.87603495e-02  3.11955989e-02  1.98035199e-01  3.75432554e-02\n",
      " -8.03647246e-02 -6.57587483e-02  1.22760281e-02  5.76928184e-02\n",
      "  1.93441654e-02 -7.85814370e-02 -2.91694968e-02 -5.04249897e-02\n",
      " -8.41090972e-02  7.82234770e-02  1.06758455e-02  3.99647490e-03\n",
      " -2.32198972e-02 -5.90077277e-02  4.96640296e-03 -7.35606533e-03\n",
      "  2.61283530e-02 -4.92651565e-02  3.61487335e-02 -1.34011972e-03\n",
      "  5.05105715e-02 -9.47106396e-02  4.89342835e-03  9.01608659e-02\n",
      " -1.24060602e-02 -7.69620167e-02 -8.94695823e-03  3.40337196e-04\n",
      "  1.05670426e-02 -1.82999304e-02  1.04319696e-01 -2.43175341e-02\n",
      " -4.73686276e-04  4.89356006e-02  2.28516954e-02 -1.27517030e-02\n",
      " -3.26325805e-02 -2.13755736e-02  2.44419271e-02  2.10299285e-02\n",
      "  6.07702001e-02  7.24460825e-03 -1.03875868e-02 -2.17510712e-02\n",
      "  1.03264849e-01 -1.36219853e-01  7.51581586e-02 -7.19445286e-02\n",
      " -5.66067974e-03  1.19415898e-04 -7.40170672e-02 -7.50413967e-02\n",
      "  1.15233696e-02 -1.40701957e-01  4.71045462e-02 -6.98341707e-02\n",
      "  4.17317098e-02 -4.73194958e-02 -1.23823082e-01 -3.67431625e-02\n",
      " -7.79604702e-02 -1.02405547e-01 -5.44778575e-02  1.48562551e-02\n",
      "  8.33262579e-02 -3.68207840e-02  9.24244750e-02 -2.38766858e-02\n",
      "  4.27345607e-02  1.87635828e-02 -9.80356465e-02  9.17517615e-03\n",
      "  2.63081425e-02  2.25282756e-02 -1.12854004e-01  3.31500490e-02\n",
      "  6.41293735e-02  3.68260936e-02  4.12650739e-02 -2.08347487e-01\n",
      "  9.52994306e-03 -2.77112826e-03 -4.46419521e-02 -1.59464297e-02\n",
      " -2.78373560e-03  3.41637656e-02  2.39854886e-02 -3.32031248e-02\n",
      "  6.00950815e-02 -5.37162469e-02 -1.66798472e-02  5.85857894e-02\n",
      "  2.17245344e-02  1.17227970e-01 -5.24613765e-02  5.85274081e-03\n",
      "  1.55633677e-01 -3.79738191e-02 -7.46002210e-02  1.17852251e-01\n",
      "  3.01580025e-02 -4.53783141e-04 -3.68342186e-02  2.82999113e-02\n",
      "  4.57821318e-02 -1.04784094e-01 -2.42893378e-02  7.31572695e-02\n",
      "  1.53253307e-01 -6.48416442e-02  2.56639560e-02 -2.88192037e-03\n",
      " -1.99650480e-02  1.04549244e-02  6.97870668e-02  1.36382892e-02\n",
      "  2.50748345e-02  2.90845777e-02  4.44773807e-02 -4.79364811e-02\n",
      " -1.79788435e-03 -5.17445440e-02  2.26546568e-02  2.92264695e-02\n",
      "  4.76299786e-02 -2.10226302e-02  1.53956245e-03 -1.46603799e-02\n",
      " -1.06132502e-05 -4.88135302e-02 -3.78815758e-03  3.18709615e-03\n",
      "  3.12274435e-02  1.35104970e-02  2.74764346e-02  2.81531311e-02\n",
      "  7.07262079e-02 -2.48559050e-02 -6.22080902e-02  3.21827771e-02\n",
      "  7.28335172e-02  6.99781327e-02 -2.55976136e-02  1.48771867e-01\n",
      "  7.56756325e-02  1.18993511e-01 -1.65514075e-01 -1.02825662e-01\n",
      " -5.00965945e-02  4.25700310e-02 -5.26335355e-02  9.27998904e-02\n",
      "  7.43849389e-02 -3.62416163e-02  1.16248090e-01 -4.25793183e-02\n",
      " -9.52692431e-02 -3.13216499e-02 -3.68068539e-02  2.24795142e-02\n",
      " -1.35681154e-01  4.50379735e-02 -4.72458530e-02  1.73419458e-02\n",
      "  4.29369054e-02  4.92024641e-02 -6.04466974e-02  4.68254080e-02\n",
      "  3.87812091e-02  7.36982997e-03 -2.97785315e-02 -1.44308346e-02\n",
      " -1.22020100e-01  5.04150401e-02  3.31235140e-02 -4.12173059e-02\n",
      " -6.29166322e-02  8.58472515e-04  8.03985603e-02  2.24383808e-02]\n",
      "(300,)\n",
      "15\n"
     ]
    }
   ],
   "source": [
    "embeddings = []\n",
    "stpwrds = stopwords.words('english') + list(string.punctuation) + ['—', '“', '”', \"'\", \"’\"]\n",
    "\n",
    "for i in sentences:\n",
    "    temp = []\n",
    "    words = nltk.word_tokenize(i)\n",
    "    for word in words:\n",
    "        true_len = len(words) - len([w for w in stpwrds if w in words])\n",
    "        #if word not in stpwrds:\n",
    "        if word in model.vocab:\n",
    "            v = model[word]/true_len\n",
    "        else:\n",
    "            v = np.zeros(300,)\n",
    "        temp.append(v)\n",
    "        a = sum(temp)\n",
    "        np_temp = np.array(a)\n",
    "    #embeddings.append(temp)\n",
    "    embeddings.append(np_temp)\n",
    "    \n",
    "sentence_vectors = np.array(embeddings)\n",
    "print(sentence_vectors.shape)\n",
    "print(sentence_vectors[0])\n",
    "print(sentence_vectors[0].shape)\n",
    "print(len(sentence_vectors))"
   ]
  },
  {
   "cell_type": "code",
   "execution_count": 70,
   "metadata": {},
   "outputs": [
    {
     "name": "stdout",
     "output_type": "stream",
     "text": [
      "15\n"
     ]
    },
    {
     "data": {
      "text/plain": [
       "(15, 15)"
      ]
     },
     "execution_count": 70,
     "metadata": {},
     "output_type": "execute_result"
    }
   ],
   "source": [
    "sim_mat = np.zeros([len(sentences), len(sentences)])\n",
    "\n",
    "#for e, i in enumerate(sentence_vectors):\n",
    "#    a = cosine_similarity(sentence_vectors[e])\n",
    "sim_mat.shape    "
   ]
  },
  {
   "cell_type": "code",
   "execution_count": 73,
   "metadata": {},
   "outputs": [],
   "source": [
    "for i in range(len(sentences)):\n",
    "  for j in range(len(sentences)):\n",
    "    if i != j:\n",
    "      sim_mat[i][j] = cosine_similarity(sentence_vectors[i].reshape(1,300), sentence_vectors[j].reshape(1,300))[0,0]"
   ]
  },
  {
   "cell_type": "code",
   "execution_count": 74,
   "metadata": {},
   "outputs": [],
   "source": [
    "nx_graph = nx.from_numpy_array(sim_mat)\n",
    "scores = nx.pagerank(nx_graph)"
   ]
  },
  {
   "cell_type": "code",
   "execution_count": 76,
   "metadata": {},
   "outputs": [],
   "source": [
    "ranked_sentences = sorted(((scores[i],s) for i,s in enumerate(sentences)), reverse=True)"
   ]
  },
  {
   "cell_type": "code",
   "execution_count": 77,
   "metadata": {},
   "outputs": [
    {
     "name": "stdout",
     "output_type": "stream",
     "text": [
      "The statement called the joint venture the “first steps” toward the creation of an alliance that would create “a more efficient and competitive European shipbuilding industry.” Naval Group CEO Hervé Guillou, speaking at the Euronaval trade expo in Paris on Oct. 24, said the alliance is based on “two countries sharing a veritable naval ambition.” The joint venture is necessary because the “context of the global market has changed drastically,” he added, specifically mentioning new market entrants Russia, China, Singapore, Ukraine, India and Turkey.Sign up for the Early Bird Brief, the defense industry's most comprehensive news and information, straight to your inbox.By giving us your email, you are opting in to the Early Bird Brief.\n",
      "When asked about an initial product to be tackled under the alliance, Guillou acknowledged: “The answer is simple: there is nothing yet.” However, the firms said they are working toward a deal to build four logistics support ships for the French Navy, which will be based on an Italian design.\n",
      "But the firms were optimistic the deal would be “a great opportunity for both groups and their eco-systems, by enhancing their ability to better serve the Italian and French navies, to capture new export contracts, to increase research funding and, ultimately, improve the competitiveness of both French and Italian naval sectors.” Sebastian Sprenger in Paris contributed to this report.\n",
      "The firms also plan to jointly bid next year on work for midlife upgrades for Horizon frigates, which were built by France and Italy and are in service with both navies.\n"
     ]
    }
   ],
   "source": [
    "num_of_sentences = 4\n",
    "for i in range(num_of_sentences):\n",
    "    print(ranked_sentences[i][1])"
   ]
  },
  {
   "cell_type": "code",
   "execution_count": null,
   "metadata": {},
   "outputs": [],
   "source": []
  }
 ],
 "metadata": {
  "kernelspec": {
   "display_name": "Python 3",
   "language": "python",
   "name": "python3"
  },
  "language_info": {
   "codemirror_mode": {
    "name": "ipython",
    "version": 3
   },
   "file_extension": ".py",
   "mimetype": "text/x-python",
   "name": "python",
   "nbconvert_exporter": "python",
   "pygments_lexer": "ipython3",
   "version": "3.8.5"
  }
 },
 "nbformat": 4,
 "nbformat_minor": 4
}
