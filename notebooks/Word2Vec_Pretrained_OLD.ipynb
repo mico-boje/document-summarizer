{
 "cells": [
  {
   "cell_type": "code",
   "execution_count": 4,
   "metadata": {},
   "outputs": [],
   "source": [
    "import gensim.downloader as api\n",
    "import gensim\n",
    "from gensim.models import Phrases\n",
    "from gensim.models import KeyedVectors\n",
    "import numpy as np\n",
    "import nltk\n",
    "from nltk.corpus import stopwords\n",
    "import string\n",
    "from sklearn.metrics.pairwise import cosine_similarity\n",
    "import networkx as nx"
   ]
  },
  {
   "cell_type": "code",
   "execution_count": 5,
   "metadata": {},
   "outputs": [],
   "source": [
    "info = api.info()  # show info about available models/datasets"
   ]
  },
  {
   "cell_type": "code",
   "execution_count": 6,
   "metadata": {},
   "outputs": [],
   "source": [
    "model = api.load(\"word2vec-google-news-300\")  # download the model and return as object ready for use\n",
    "#w2v = dict(zip(model.index2word, model.vectors))"
   ]
  },
  {
   "cell_type": "code",
   "execution_count": 7,
   "metadata": {},
   "outputs": [],
   "source": [
    "import re\n",
    "def remove_empty_string(input_string):\n",
    "    for e, i in enumerate(input_string):\n",
    "        if i[-1] == ' ' and input_string[e+1][-1] == ' ':\n",
    "            input_string[e] = i.rstrip()\n",
    "    joined_string = ''.join(input_string)\n",
    "    for e, i in enumerate(joined_string):\n",
    "        if i == ' ' and joined_string[e+1] == ' ':\n",
    "            del i\n",
    "    sentences = nltk.sent_tokenize(joined_string)\n",
    "    return sentences\n"
   ]
  },
  {
   "cell_type": "code",
   "execution_count": 8,
   "metadata": {},
   "outputs": [],
   "source": [
    "raw_string = [\" ROME — Defying reports that their planned partnership is \", \"doomed to fail\", \", France’s Naval Group and \", \"Italy’s Fincantieri\", \" have announced a joint venture to build and export naval vessels. \", \" The two \", \"state-controlled shipyards\", \" said they were forming a 50-50 joint venture after months of talks to integrate their activities. The move comes as Europe’s fractured shipbuilding industry faces stiffer global competition. \", \" The firms said in a statement that the deal would allow them to “jointly prepare winning offers for binational programs and export market,” as well as create joint supply chains, research and testing. \", \" Naval Group and Fincantieri first announced talks on cooperation last year after the latter negotiated a controlling share in French shipyard STX. But the deal was reportedly losing momentum due to resistance from French industry and a political row between France and Italy over migrants. \", \" The new deal falls short of the 10 percent share swap predicted by French Economy and Finance Minister Bruno Le Maire earlier this year, and far short of the total integration envisaged by Fincantieri CEO Giuseppe Bono. \", \" The statement called the joint venture the “first steps” toward the creation of an alliance that would create “a more efficient and competitive European shipbuilding industry.”\", \" Naval Group CEO Hervé Guillou, speaking at the Euronaval trade expo in Paris on Oct. 24, said the alliance is based on “two countries sharing a veritable naval ambition.”\", \" The joint venture is necessary because the “context of the global market has changed drastically,” he added, specifically mentioning new market entrants Russia, China, Singapore, Ukraine, India and Turkey.\", \"Sign up for the Early Bird Brief, the defense industry's most comprehensive news and information, straight to your inbox.\", \"By giving us your email, you are opting in to the Early Bird Brief.\", \" When asked about an initial product to be tackled under the alliance, Guillou acknowledged: “The answer is simple: there is nothing yet.”\", \" However, the firms said they are working toward a deal to build four logistics support ships for the French Navy, which will be based on an Italian design. \", \"Competition flares up for the follow-on portion of a deal previously won by the French shipbuilder.\", \" The firms also plan to jointly bid next year on work for midlife upgrades for Horizon frigates, which were built by France and Italy and are in service with both navies. The work would include providing a common combat management system. \", \" The statement was cautious about future acceleration toward integration. “A Government-to-Government Agreement would be needed to ensure the protection of sovereign assets, a fluid collaboration between the French and Italian teams and encourage further coherence of the National assistance programs, which provide a framework and support export sales,” the statement said.\", \" But the firms were optimistic the deal would be “a great opportunity for both groups and their eco-systems, by enhancing their ability to better serve the Italian and French navies, to capture new export contracts, to increase research funding and, ultimately, improve the competitiveness of both French and Italian naval sectors.”\", \" \", \"Sebastian Sprenger\", \" in Paris contributed to this report.\"]\n",
    "sentences = remove_empty_string(raw_string)"
   ]
  },
  {
   "cell_type": "code",
   "execution_count": 9,
   "metadata": {},
   "outputs": [
    {
     "data": {
      "text/plain": [
       "(300,)"
      ]
     },
     "execution_count": 9,
     "metadata": {},
     "output_type": "execute_result"
    }
   ],
   "source": [
    "# The 'skipthoughts' module can be found at the root of the GitHub  repository linked above\n",
    "#import skipthoughts\n",
    "\n",
    "# You would need to download pre-trained models first\n",
    "#model = skipthoughts.load_model()\n",
    "\n",
    "#encoder = skipthoughts.Encoder(model)\n",
    "#encoded =  encoder.encode(sentences)\n",
    "a = model['ROME']\n",
    "a.shape"
   ]
  },
  {
   "cell_type": "code",
   "execution_count": 17,
   "metadata": {},
   "outputs": [
    {
     "name": "stdout",
     "output_type": "stream",
     "text": [
      "(15, 300)\n",
      "[-0.0308745   0.1653925   0.07571148  0.04756497 -0.06667558 -0.05863687\n",
      "  0.00710794 -0.13558097  0.15902577  0.09241784 -0.06377341 -0.05293472\n",
      " -0.05117068 -0.02844238 -0.19437043  0.09911446 -0.01195757 -0.03752467\n",
      "  0.02769603  0.01944068 -0.02954258 -0.02309981  0.08139437 -0.10659392\n",
      "  0.1635742   0.00746353 -0.00046439  0.10255498 -0.05470872  0.00395136\n",
      "  0.03557553 -0.05517313 -0.1864266  -0.02056089  0.07103299 -0.0096064\n",
      " -0.0338294  -0.00986647 -0.02073071  0.01999233  0.05608334  0.03390902\n",
      "  0.09134076  0.13127334 -0.01280942 -0.1576432  -0.08905559  0.11800617\n",
      " -0.05926779  0.16735774 -0.03892452  0.21454987  0.05379585 -0.00946311\n",
      " -0.07339012  0.04836109 -0.22361822 -0.1639789   0.02216571 -0.11142631\n",
      "  0.03989045  0.02302484 -0.10982081 -0.15812384 -0.14470239  0.01417077\n",
      "  0.02373207  0.04259457 -0.03389441 -0.00816545 -0.13387531 -0.00848919\n",
      " -0.03040214  0.16665919 -0.10114718 -0.1206263   0.04823504  0.02946274\n",
      "  0.03282895  0.12907809  0.00057055 -0.24566914  0.06020723  0.01031626\n",
      "  0.07421874 -0.0642113  -0.10839447  0.05252208  0.04687765  0.07144166\n",
      "  0.11199752 -0.1201968  -0.06909976  0.05399755  0.02322255 -0.18230443\n",
      "  0.0639476  -0.1441478   0.08037999 -0.02930748  0.08061019 -0.11114908\n",
      " -0.0453614  -0.00974439  0.02190963  0.03537253 -0.00138457 -0.05155613\n",
      "  0.15136851  0.13436492 -0.04467773  0.01281406 -0.00776075 -0.14568132\n",
      "  0.22078277  0.02119247 -0.01583464  0.06268311  0.27760383  0.050902\n",
      " -0.11495839 -0.11912471  0.02703327  0.07103033  0.03413457 -0.14274798\n",
      " -0.01739767 -0.05230846 -0.13909912  0.11371373  0.01696512  0.00285538\n",
      " -0.03492538 -0.0718198   0.01666127  0.01097571  0.03015137 -0.06586854\n",
      "  0.04323943 -0.02004342  0.08642311 -0.12747326  0.0343283   0.13663515\n",
      "  0.02915357 -0.11038276 -0.02313896  0.00358316  0.0382173  -0.05483611\n",
      "  0.11969923 -0.03690039 -0.00547061  0.07636958  0.05161783 -0.02647466\n",
      " -0.06668225  0.02001688 -0.00248121  0.06255706  0.09262565  0.03058658\n",
      " -0.0116879  -0.06115192  0.17068084 -0.2047597   0.09457795 -0.09453285\n",
      " -0.00858639 -0.00662098 -0.10766602 -0.10048509 -0.02036783 -0.1822616\n",
      "  0.08359295 -0.09425818  0.07229704 -0.03109343 -0.14734681 -0.02226986\n",
      " -0.10896102 -0.16238983 -0.07498567  0.033434    0.10938561 -0.0502651\n",
      "  0.11682659 -0.02711685  0.01610665  0.03717821 -0.12607732 -0.01462322\n",
      "  0.02969128  0.04673103 -0.17579454  0.05964461  0.08249832  0.03596099\n",
      "  0.04169497 -0.28956142  0.0393647   0.0053439  -0.05148851 -0.02515743\n",
      " -0.00812033  0.01715353  0.01695981 -0.0604195   0.07766789 -0.11415696\n",
      " -0.04082987  0.08623736  0.02681965  0.17168461 -0.11563841 -0.01610532\n",
      "  0.20839591 -0.06668688 -0.07586271  0.14182977  0.03380552 -0.00383725\n",
      " -0.06541194  0.06752246  0.05363047 -0.09502909 -0.02924911  0.08916441\n",
      "  0.21463545 -0.09794136  0.02553392  0.01620882 -0.02668953  0.00082663\n",
      "  0.09229843  0.02866447  0.0257303   0.05941109  0.06850798 -0.09908926\n",
      "  0.01870991 -0.05876093  0.04374892  0.065009    0.06584632 -0.05148183\n",
      "  0.00414061 -0.02126279 -0.01826676 -0.10115515  0.01435387 -0.00630786\n",
      "  0.0349466   0.03290094  0.04084579  0.05981182  0.1193471  -0.06216563\n",
      " -0.07828422  0.04573789  0.1030804   0.11493718 -0.03624692  0.23131262\n",
      "  0.1015572   0.14968489 -0.24052891 -0.14206332 -0.06721298  0.07169906\n",
      " -0.09186058  0.11697769  0.10190184 -0.04868218  0.15644635 -0.05037722\n",
      " -0.16806424 -0.028725   -0.06110946  0.02596117 -0.21601404  0.06237729\n",
      " -0.06723287  0.02606865  0.03514564  0.09296733 -0.08426766  0.08623289\n",
      "  0.04159413  0.03446513 -0.02516939  0.02075726 -0.1853509   0.06861944\n",
      "  0.04175335 -0.0448688  -0.08701754 -0.00506989  0.10854108  0.00378816]\n",
      "(300,)\n",
      "15\n"
     ]
    }
   ],
   "source": [
    "embeddings = []\n",
    "stpwrds = stopwords.words('english') + list(string.punctuation) + ['—', '“', '”', \"'\", \"’\"]\n",
    "\n",
    "for i in sentences:\n",
    "    temp = []\n",
    "    words = nltk.word_tokenize(i)\n",
    "    for word in words:\n",
    "        true_len = len(words) - len([w for w in stpwrds if w in words])\n",
    "        #if word not in stpwrds:\n",
    "        if word in model.vocab:\n",
    "            v = model[word]/true_len\n",
    "        #else:\n",
    "        #    v = np.zeros(300,)\n",
    "        temp.append(v)\n",
    "        a = sum(temp)\n",
    "        np_temp = np.array(a)\n",
    "    #embeddings.append(temp)\n",
    "    embeddings.append(np_temp)\n",
    "    \n",
    "sentence_vectors = np.array(embeddings)\n",
    "print(sentence_vectors.shape)\n",
    "print(sentence_vectors[0])\n",
    "print(sentence_vectors[0].shape)\n",
    "print(len(sentence_vectors))"
   ]
  },
  {
   "cell_type": "code",
   "execution_count": 18,
   "metadata": {},
   "outputs": [
    {
     "data": {
      "text/plain": [
       "(15, 15)"
      ]
     },
     "execution_count": 18,
     "metadata": {},
     "output_type": "execute_result"
    }
   ],
   "source": [
    "sim_mat = np.zeros([len(sentences), len(sentences)])\n",
    "\n",
    "#for e, i in enumerate(sentence_vectors):\n",
    "#    a = cosine_similarity(sentence_vectors[e])\n",
    "sim_mat.shape    "
   ]
  },
  {
   "cell_type": "code",
   "execution_count": 19,
   "metadata": {},
   "outputs": [],
   "source": [
    "for i in range(len(sentences)):\n",
    "  for j in range(len(sentences)):\n",
    "    if i != j:\n",
    "      sim_mat[i][j] = cosine_similarity(sentence_vectors[i].reshape(1,300), sentence_vectors[j].reshape(1,300))[0,0]"
   ]
  },
  {
   "cell_type": "code",
   "execution_count": 20,
   "metadata": {},
   "outputs": [],
   "source": [
    "nx_graph = nx.from_numpy_array(sim_mat)\n",
    "scores = nx.pagerank(nx_graph)"
   ]
  },
  {
   "cell_type": "code",
   "execution_count": 21,
   "metadata": {},
   "outputs": [],
   "source": [
    "ranked_sentences = sorted(((scores[i],s) for i,s in enumerate(sentences)), reverse=True)"
   ]
  },
  {
   "cell_type": "code",
   "execution_count": 22,
   "metadata": {},
   "outputs": [
    {
     "name": "stdout",
     "output_type": "stream",
     "text": [
      "The statement called the joint venture the “first steps” toward the creation of an alliance that would create “a more efficient and competitive European shipbuilding industry.” Naval Group CEO Hervé Guillou, speaking at the Euronaval trade expo in Paris on Oct. 24, said the alliance is based on “two countries sharing a veritable naval ambition.” The joint venture is necessary because the “context of the global market has changed drastically,” he added, specifically mentioning new market entrants Russia, China, Singapore, Ukraine, India and Turkey.Sign up for the Early Bird Brief, the defense industry's most comprehensive news and information, straight to your inbox.By giving us your email, you are opting in to the Early Bird Brief.\n",
      "But the firms were optimistic the deal would be “a great opportunity for both groups and their eco-systems, by enhancing their ability to better serve the Italian and French navies, to capture new export contracts, to increase research funding and, ultimately, improve the competitiveness of both French and Italian naval sectors.” Sebastian Sprenger in Paris contributed to this report.\n",
      "When asked about an initial product to be tackled under the alliance, Guillou acknowledged: “The answer is simple: there is nothing yet.” However, the firms said they are working toward a deal to build four logistics support ships for the French Navy, which will be based on an Italian design.\n",
      "The firms also plan to jointly bid next year on work for midlife upgrades for Horizon frigates, which were built by France and Italy and are in service with both navies.\n"
     ]
    }
   ],
   "source": [
    "num_of_sentences = 4\n",
    "for i in range(num_of_sentences):\n",
    "    print(ranked_sentences[i][1])"
   ]
  },
  {
   "cell_type": "code",
   "execution_count": 16,
   "metadata": {},
   "outputs": [
    {
     "data": {
      "text/plain": [
       "[('machines', 0.7677487730979919),\n",
       " ('wringer_washing', 0.5941920280456543),\n",
       " ('machinery', 0.5260839462280273),\n",
       " ('Automated_teller', 0.5225658416748047),\n",
       " ('roundish_pinhole_shape', 0.5103495121002197),\n",
       " ('Machine', 0.5063987374305725),\n",
       " ('extrude_liquefied_cornmeal', 0.5044564008712769),\n",
       " ('ma_chine', 0.4988497197628021),\n",
       " ('CNC_lathe', 0.49585121870040894),\n",
       " ('Computer_Numerically_Controlled', 0.4957743287086487)]"
      ]
     },
     "execution_count": 16,
     "metadata": {},
     "output_type": "execute_result"
    }
   ],
   "source": [
    "model.most_similar('machine')"
   ]
  },
  {
   "cell_type": "code",
   "execution_count": null,
   "metadata": {},
   "outputs": [],
   "source": []
  }
 ],
 "metadata": {
  "kernelspec": {
   "display_name": "Python 3",
   "language": "python",
   "name": "python3"
  },
  "language_info": {
   "codemirror_mode": {
    "name": "ipython",
    "version": 3
   },
   "file_extension": ".py",
   "mimetype": "text/x-python",
   "name": "python",
   "nbconvert_exporter": "python",
   "pygments_lexer": "ipython3",
   "version": "3.8.5"
  }
 },
 "nbformat": 4,
 "nbformat_minor": 4
}
