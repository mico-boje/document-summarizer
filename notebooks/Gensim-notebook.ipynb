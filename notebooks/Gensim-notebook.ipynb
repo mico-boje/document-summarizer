{
 "cells": [
  {
   "cell_type": "code",
   "execution_count": 6,
   "metadata": {},
   "outputs": [],
   "source": [
    "from pprint import pprint as print\n",
    "from gensim.summarization import summarize, keywords\n",
    "# Gensim summarization is based on a TextRank algorithm"
   ]
  },
  {
   "cell_type": "code",
   "execution_count": 2,
   "metadata": {},
   "outputs": [
    {
     "name": "stdout",
     "output_type": "stream",
     "text": [
      "'Loaded Stories 92579'\n"
     ]
    }
   ],
   "source": [
    "import os\n",
    "from pathlib import Path\n",
    "from os import listdir\n",
    "\n",
    "# load doc into memory\n",
    "def load_doc(filename):\n",
    "    # open the file as read only\n",
    "    file = open(filename, encoding='utf-8')\n",
    "    # read all text\n",
    "    text = file.read()\n",
    "    # close the file\n",
    "    file.close()\n",
    "    return text\n",
    "\n",
    "# load all stories in a directory\n",
    "def load_stories(directory):\n",
    "    for name in listdir(directory):\n",
    "        filename = directory + '/' + name\n",
    "        # load document\n",
    "        doc = load_doc(filename)\n",
    "\n",
    "# split a document into news story and highlights\n",
    "def split_story(doc):\n",
    "    # find first highlight\n",
    "    index = doc.find('@highlight')\n",
    "    # split into story and highlights\n",
    "    story, highlights = doc[:index], doc[index:].split('@highlight')\n",
    "    # strip extra white space around each highlight\n",
    "    highlights = [h.strip() for h in highlights if len(h) > 0]\n",
    "    return story, highlights\n",
    "\n",
    "# load all stories in a directory\n",
    "def load_stories(directory):\n",
    "    all_stories = list()\n",
    "    for name in listdir(directory):\n",
    "        filename = directory + '/' + name\n",
    "        # load document\n",
    "        doc = load_doc(filename)\n",
    "        # split into story and highlights\n",
    "        story, highlights = split_story(doc)\n",
    "        # store\n",
    "        all_stories.append({'story':story, 'highlights':highlights})\n",
    "    return all_stories\n",
    "\n",
    "# load stories\n",
    "p = Path(os.getcwd()).parents[0]\n",
    "cnn_path = str(p) + r'/data/external/cnn/stories'\n",
    "stories = load_stories(cnn_path)\n",
    "print('Loaded Stories %d' % len(stories))"
   ]
  },
  {
   "cell_type": "code",
   "execution_count": 7,
   "metadata": {},
   "outputs": [
    {
     "name": "stdout",
     "output_type": "stream",
     "text": [
      "('Majora Carter says green roofs can help alleviate the problems caused by '\n",
      " 'storm water\\n'\n",
      " 'Green Roofs for Healthy Cities, a Canadian non-profit industry association, '\n",
      " 'conducted a survey in 2005 which indicated that only 233,000 square meters '\n",
      " 'of green roofs existed in North America.\\n'\n",
      " '\"In Germany they are down to $20 per square meter, which is way cheaper than '\n",
      " 'a regular roof here,\" she told CNN.\\n'\n",
      " 'Storm water is a growing problem in cities.\\n'\n",
      " \"The mandates Carter refers to are part of Germany's Green Area and Biotope \"\n",
      " 'Area Federal Law. They are not a legal requirement, but through incentives '\n",
      " 'set up at a city level, the mandates have helped to encourage cheaper '\n",
      " 'prices.\\n'\n",
      " '\"We need government bodies to accept certain civil engineering benefits, '\n",
      " 'such as storm water amelioration, like the Germans, Austrians and Swiss do,\" '\n",
      " 'he told CNN.\\n'\n",
      " 'Despite this lack of support, the green roof industry is growing.\\n'\n",
      " '\"In Switzerland, green roofs are federal law, but again this is interpreted '\n",
      " 'at a cantonal and city level,\" he told CNN.\\n'\n",
      " \"So the green roof industry continues to grow -- but there's a feeling that \"\n",
      " 'government support could be better.')\n",
      "('roofs\\n'\n",
      " 'roofed\\n'\n",
      " 'green roof\\n'\n",
      " 'industry\\n'\n",
      " 'industries\\n'\n",
      " 'government\\n'\n",
      " 'water\\n'\n",
      " 'approach\\n'\n",
      " 'problem\\n'\n",
      " 'problems\\n'\n",
      " 'years\\n'\n",
      " 'year\\n'\n",
      " 'gedge\\n'\n",
      " 'grow\\n'\n",
      " 'growing\\n'\n",
      " 'million\\n'\n",
      " 'cities\\n'\n",
      " 'city\\n'\n",
      " 'better\\n'\n",
      " 'cheaper\\n'\n",
      " 'heat\\n'\n",
      " 'carter says\\n'\n",
      " 'layer\\n'\n",
      " 'drainage\\n'\n",
      " 'help\\n'\n",
      " 'helped\\n'\n",
      " 'south\\n'\n",
      " 'change\\n'\n",
      " 'britain\\n'\n",
      " 'site\\n'\n",
      " 'indulgence\\n'\n",
      " 'standard\\n'\n",
      " 'non\\n'\n",
      " 'area\\n'\n",
      " 'absorb\\n'\n",
      " 'benefits\\n'\n",
      " 'benefit\\n'\n",
      " 'hanging\\n'\n",
      " 'cnn\\n'\n",
      " 'sizes\\n'\n",
      " 'driven\\n'\n",
      " 'policy\\n'\n",
      " 'policies\\n'\n",
      " 'england\\n'\n",
      " 'majora')\n"
     ]
    }
   ],
   "source": [
    "text = stories[1]['story']\n",
    "print(summarize(text))\n",
    "print(keywords(text))"
   ]
  },
  {
   "cell_type": "code",
   "execution_count": null,
   "metadata": {},
   "outputs": [],
   "source": []
  }
 ],
 "metadata": {
  "kernelspec": {
   "display_name": "Python (NLP-env)",
   "language": "python",
   "name": "myenv"
  },
  "language_info": {
   "codemirror_mode": {
    "name": "ipython",
    "version": 3
   },
   "file_extension": ".py",
   "mimetype": "text/x-python",
   "name": "python",
   "nbconvert_exporter": "python",
   "pygments_lexer": "ipython3",
   "version": "3.8.5"
  }
 },
 "nbformat": 4,
 "nbformat_minor": 4
}
